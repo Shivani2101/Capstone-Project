{
 "cells": [
  {
   "cell_type": "code",
   "execution_count": 1,
   "id": "1ece2104",
   "metadata": {},
   "outputs": [],
   "source": [
    "import pandas as pd\n",
    "pd.set_option(\"display.max_columns\",None)  ## To fetch all the attributes\n",
    "import seaborn as sns\n",
    "import matplotlib.pyplot as plt\n",
    "import warnings \n",
    "warnings.filterwarnings('ignore')"
   ]
  },
  {
   "cell_type": "code",
   "execution_count": 2,
   "id": "a3d16ff9",
   "metadata": {},
   "outputs": [],
   "source": [
    "df = pd.read_csv(\"priceprediction.csv\")"
   ]
  },
  {
   "cell_type": "code",
   "execution_count": 3,
   "id": "c23ebb56",
   "metadata": {},
   "outputs": [
    {
     "data": {
      "text/html": [
       "<div>\n",
       "<style scoped>\n",
       "    .dataframe tbody tr th:only-of-type {\n",
       "        vertical-align: middle;\n",
       "    }\n",
       "\n",
       "    .dataframe tbody tr th {\n",
       "        vertical-align: top;\n",
       "    }\n",
       "\n",
       "    .dataframe thead th {\n",
       "        text-align: right;\n",
       "    }\n",
       "</style>\n",
       "<table border=\"1\" class=\"dataframe\">\n",
       "  <thead>\n",
       "    <tr style=\"text-align: right;\">\n",
       "      <th></th>\n",
       "      <th>id</th>\n",
       "      <th>name</th>\n",
       "      <th>host_id</th>\n",
       "      <th>host_name</th>\n",
       "      <th>neighbourhood</th>\n",
       "      <th>latitude</th>\n",
       "      <th>longitude</th>\n",
       "      <th>room_type</th>\n",
       "      <th>price</th>\n",
       "      <th>minimum_nights</th>\n",
       "      <th>number_of_reviews</th>\n",
       "      <th>reviews_per_month</th>\n",
       "      <th>calculated_host_listings_count</th>\n",
       "      <th>availability_365</th>\n",
       "      <th>number_of_reviews_ltm</th>\n",
       "      <th>Compound Score</th>\n",
       "    </tr>\n",
       "  </thead>\n",
       "  <tbody>\n",
       "    <tr>\n",
       "      <th>0</th>\n",
       "      <td>44419781</td>\n",
       "      <td>Studio Suite | Business Travel</td>\n",
       "      <td>348430184</td>\n",
       "      <td>Avalon</td>\n",
       "      <td>Annex</td>\n",
       "      <td>43.67127</td>\n",
       "      <td>-79.39461</td>\n",
       "      <td>Entire home/apt</td>\n",
       "      <td>155</td>\n",
       "      <td>2</td>\n",
       "      <td>34.0</td>\n",
       "      <td>1.86</td>\n",
       "      <td>8.5</td>\n",
       "      <td>308</td>\n",
       "      <td>7.5</td>\n",
       "      <td>0.670770</td>\n",
       "    </tr>\n",
       "    <tr>\n",
       "      <th>1</th>\n",
       "      <td>44429201</td>\n",
       "      <td>Beautiful &amp; Cozy One Bedroom Condo In Yorkville!</td>\n",
       "      <td>354808129</td>\n",
       "      <td>Erin</td>\n",
       "      <td>Annex</td>\n",
       "      <td>43.67142</td>\n",
       "      <td>-79.39487</td>\n",
       "      <td>Entire home/apt</td>\n",
       "      <td>120</td>\n",
       "      <td>30</td>\n",
       "      <td>3.0</td>\n",
       "      <td>0.17</td>\n",
       "      <td>7.0</td>\n",
       "      <td>35</td>\n",
       "      <td>2.0</td>\n",
       "      <td>0.910667</td>\n",
       "    </tr>\n",
       "    <tr>\n",
       "      <th>2</th>\n",
       "      <td>44429908</td>\n",
       "      <td>Stylish Roncesvalles Private Suite w/ Tech Extras</td>\n",
       "      <td>37415518</td>\n",
       "      <td>Anthony</td>\n",
       "      <td>Roncesvalles</td>\n",
       "      <td>43.64055</td>\n",
       "      <td>-79.43939</td>\n",
       "      <td>Entire home/apt</td>\n",
       "      <td>95</td>\n",
       "      <td>3</td>\n",
       "      <td>37.0</td>\n",
       "      <td>2.47</td>\n",
       "      <td>1.0</td>\n",
       "      <td>117</td>\n",
       "      <td>7.5</td>\n",
       "      <td>0.907546</td>\n",
       "    </tr>\n",
       "    <tr>\n",
       "      <th>3</th>\n",
       "      <td>44430872</td>\n",
       "      <td>Newly Renovated 2nd floor Suite</td>\n",
       "      <td>358865808</td>\n",
       "      <td>Joe</td>\n",
       "      <td>Weston-Pellam Park</td>\n",
       "      <td>43.66801</td>\n",
       "      <td>-79.45752</td>\n",
       "      <td>Entire home/apt</td>\n",
       "      <td>115</td>\n",
       "      <td>3</td>\n",
       "      <td>4.0</td>\n",
       "      <td>1.08</td>\n",
       "      <td>1.0</td>\n",
       "      <td>79</td>\n",
       "      <td>4.0</td>\n",
       "      <td>0.878850</td>\n",
       "    </tr>\n",
       "    <tr>\n",
       "      <th>4</th>\n",
       "      <td>44434249</td>\n",
       "      <td>Zahid's Castle for four guests</td>\n",
       "      <td>358919585</td>\n",
       "      <td>Zahid</td>\n",
       "      <td>Cliffcrest</td>\n",
       "      <td>43.71878</td>\n",
       "      <td>-79.25161</td>\n",
       "      <td>Entire home/apt</td>\n",
       "      <td>60</td>\n",
       "      <td>2</td>\n",
       "      <td>19.0</td>\n",
       "      <td>0.94</td>\n",
       "      <td>1.0</td>\n",
       "      <td>0</td>\n",
       "      <td>6.0</td>\n",
       "      <td>0.856045</td>\n",
       "    </tr>\n",
       "  </tbody>\n",
       "</table>\n",
       "</div>"
      ],
      "text/plain": [
       "         id                                               name    host_id  \\\n",
       "0  44419781                     Studio Suite | Business Travel  348430184   \n",
       "1  44429201   Beautiful & Cozy One Bedroom Condo In Yorkville!  354808129   \n",
       "2  44429908  Stylish Roncesvalles Private Suite w/ Tech Extras   37415518   \n",
       "3  44430872                    Newly Renovated 2nd floor Suite  358865808   \n",
       "4  44434249                     Zahid's Castle for four guests  358919585   \n",
       "\n",
       "  host_name       neighbourhood  latitude  longitude        room_type  price  \\\n",
       "0    Avalon               Annex  43.67127  -79.39461  Entire home/apt    155   \n",
       "1      Erin               Annex  43.67142  -79.39487  Entire home/apt    120   \n",
       "2   Anthony        Roncesvalles  43.64055  -79.43939  Entire home/apt     95   \n",
       "3       Joe  Weston-Pellam Park  43.66801  -79.45752  Entire home/apt    115   \n",
       "4     Zahid          Cliffcrest  43.71878  -79.25161  Entire home/apt     60   \n",
       "\n",
       "   minimum_nights  number_of_reviews  reviews_per_month  \\\n",
       "0               2               34.0               1.86   \n",
       "1              30                3.0               0.17   \n",
       "2               3               37.0               2.47   \n",
       "3               3                4.0               1.08   \n",
       "4               2               19.0               0.94   \n",
       "\n",
       "   calculated_host_listings_count  availability_365  number_of_reviews_ltm  \\\n",
       "0                             8.5               308                    7.5   \n",
       "1                             7.0                35                    2.0   \n",
       "2                             1.0               117                    7.5   \n",
       "3                             1.0                79                    4.0   \n",
       "4                             1.0                 0                    6.0   \n",
       "\n",
       "   Compound Score  \n",
       "0        0.670770  \n",
       "1        0.910667  \n",
       "2        0.907546  \n",
       "3        0.878850  \n",
       "4        0.856045  "
      ]
     },
     "execution_count": 3,
     "metadata": {},
     "output_type": "execute_result"
    }
   ],
   "source": [
    "df.head()"
   ]
  },
  {
   "cell_type": "code",
   "execution_count": 4,
   "id": "cb152b7d",
   "metadata": {},
   "outputs": [
    {
     "name": "stdout",
     "output_type": "stream",
     "text": [
      "<class 'pandas.core.frame.DataFrame'>\n",
      "RangeIndex: 11720 entries, 0 to 11719\n",
      "Data columns (total 16 columns):\n",
      " #   Column                          Non-Null Count  Dtype  \n",
      "---  ------                          --------------  -----  \n",
      " 0   id                              11720 non-null  int64  \n",
      " 1   name                            11720 non-null  object \n",
      " 2   host_id                         11720 non-null  int64  \n",
      " 3   host_name                       11720 non-null  object \n",
      " 4   neighbourhood                   11720 non-null  object \n",
      " 5   latitude                        11720 non-null  float64\n",
      " 6   longitude                       11720 non-null  float64\n",
      " 7   room_type                       11720 non-null  object \n",
      " 8   price                           11720 non-null  int64  \n",
      " 9   minimum_nights                  11720 non-null  int64  \n",
      " 10  number_of_reviews               11720 non-null  float64\n",
      " 11  reviews_per_month               11720 non-null  float64\n",
      " 12  calculated_host_listings_count  11720 non-null  float64\n",
      " 13  availability_365                11720 non-null  int64  \n",
      " 14  number_of_reviews_ltm           11720 non-null  float64\n",
      " 15  Compound Score                  11720 non-null  float64\n",
      "dtypes: float64(7), int64(5), object(4)\n",
      "memory usage: 1.4+ MB\n"
     ]
    }
   ],
   "source": [
    "df.info()"
   ]
  },
  {
   "cell_type": "code",
   "execution_count": 5,
   "id": "faee42de",
   "metadata": {},
   "outputs": [],
   "source": [
    "df['Sentiment']=''\n",
    "for i in range(0,len(df['Compound Score'])):\n",
    "    if df['Compound Score'].loc[i]>0:\n",
    "        df['Sentiment'].loc[i]='Positive'\n",
    "    elif df['Compound Score'].loc[i]== 0:\n",
    "        df['Sentiment'].loc[i]='Neutral'\n",
    "    else:\n",
    "        df['Sentiment'].loc[i]='Negative'\n"
   ]
  },
  {
   "cell_type": "code",
   "execution_count": 6,
   "id": "de5b99ed",
   "metadata": {},
   "outputs": [
    {
     "data": {
      "text/html": [
       "<div>\n",
       "<style scoped>\n",
       "    .dataframe tbody tr th:only-of-type {\n",
       "        vertical-align: middle;\n",
       "    }\n",
       "\n",
       "    .dataframe tbody tr th {\n",
       "        vertical-align: top;\n",
       "    }\n",
       "\n",
       "    .dataframe thead th {\n",
       "        text-align: right;\n",
       "    }\n",
       "</style>\n",
       "<table border=\"1\" class=\"dataframe\">\n",
       "  <thead>\n",
       "    <tr style=\"text-align: right;\">\n",
       "      <th></th>\n",
       "      <th>id</th>\n",
       "      <th>name</th>\n",
       "      <th>host_id</th>\n",
       "      <th>host_name</th>\n",
       "      <th>neighbourhood</th>\n",
       "      <th>latitude</th>\n",
       "      <th>longitude</th>\n",
       "      <th>room_type</th>\n",
       "      <th>price</th>\n",
       "      <th>minimum_nights</th>\n",
       "      <th>number_of_reviews</th>\n",
       "      <th>reviews_per_month</th>\n",
       "      <th>calculated_host_listings_count</th>\n",
       "      <th>availability_365</th>\n",
       "      <th>number_of_reviews_ltm</th>\n",
       "      <th>Compound Score</th>\n",
       "      <th>Sentiment</th>\n",
       "    </tr>\n",
       "  </thead>\n",
       "  <tbody>\n",
       "    <tr>\n",
       "      <th>0</th>\n",
       "      <td>44419781</td>\n",
       "      <td>Studio Suite | Business Travel</td>\n",
       "      <td>348430184</td>\n",
       "      <td>Avalon</td>\n",
       "      <td>Annex</td>\n",
       "      <td>43.67127</td>\n",
       "      <td>-79.39461</td>\n",
       "      <td>Entire home/apt</td>\n",
       "      <td>155</td>\n",
       "      <td>2</td>\n",
       "      <td>34.0</td>\n",
       "      <td>1.86</td>\n",
       "      <td>8.5</td>\n",
       "      <td>308</td>\n",
       "      <td>7.5</td>\n",
       "      <td>0.670770</td>\n",
       "      <td>Positive</td>\n",
       "    </tr>\n",
       "    <tr>\n",
       "      <th>1</th>\n",
       "      <td>44429201</td>\n",
       "      <td>Beautiful &amp; Cozy One Bedroom Condo In Yorkville!</td>\n",
       "      <td>354808129</td>\n",
       "      <td>Erin</td>\n",
       "      <td>Annex</td>\n",
       "      <td>43.67142</td>\n",
       "      <td>-79.39487</td>\n",
       "      <td>Entire home/apt</td>\n",
       "      <td>120</td>\n",
       "      <td>30</td>\n",
       "      <td>3.0</td>\n",
       "      <td>0.17</td>\n",
       "      <td>7.0</td>\n",
       "      <td>35</td>\n",
       "      <td>2.0</td>\n",
       "      <td>0.910667</td>\n",
       "      <td>Positive</td>\n",
       "    </tr>\n",
       "    <tr>\n",
       "      <th>2</th>\n",
       "      <td>44429908</td>\n",
       "      <td>Stylish Roncesvalles Private Suite w/ Tech Extras</td>\n",
       "      <td>37415518</td>\n",
       "      <td>Anthony</td>\n",
       "      <td>Roncesvalles</td>\n",
       "      <td>43.64055</td>\n",
       "      <td>-79.43939</td>\n",
       "      <td>Entire home/apt</td>\n",
       "      <td>95</td>\n",
       "      <td>3</td>\n",
       "      <td>37.0</td>\n",
       "      <td>2.47</td>\n",
       "      <td>1.0</td>\n",
       "      <td>117</td>\n",
       "      <td>7.5</td>\n",
       "      <td>0.907546</td>\n",
       "      <td>Positive</td>\n",
       "    </tr>\n",
       "    <tr>\n",
       "      <th>3</th>\n",
       "      <td>44430872</td>\n",
       "      <td>Newly Renovated 2nd floor Suite</td>\n",
       "      <td>358865808</td>\n",
       "      <td>Joe</td>\n",
       "      <td>Weston-Pellam Park</td>\n",
       "      <td>43.66801</td>\n",
       "      <td>-79.45752</td>\n",
       "      <td>Entire home/apt</td>\n",
       "      <td>115</td>\n",
       "      <td>3</td>\n",
       "      <td>4.0</td>\n",
       "      <td>1.08</td>\n",
       "      <td>1.0</td>\n",
       "      <td>79</td>\n",
       "      <td>4.0</td>\n",
       "      <td>0.878850</td>\n",
       "      <td>Positive</td>\n",
       "    </tr>\n",
       "    <tr>\n",
       "      <th>4</th>\n",
       "      <td>44434249</td>\n",
       "      <td>Zahid's Castle for four guests</td>\n",
       "      <td>358919585</td>\n",
       "      <td>Zahid</td>\n",
       "      <td>Cliffcrest</td>\n",
       "      <td>43.71878</td>\n",
       "      <td>-79.25161</td>\n",
       "      <td>Entire home/apt</td>\n",
       "      <td>60</td>\n",
       "      <td>2</td>\n",
       "      <td>19.0</td>\n",
       "      <td>0.94</td>\n",
       "      <td>1.0</td>\n",
       "      <td>0</td>\n",
       "      <td>6.0</td>\n",
       "      <td>0.856045</td>\n",
       "      <td>Positive</td>\n",
       "    </tr>\n",
       "  </tbody>\n",
       "</table>\n",
       "</div>"
      ],
      "text/plain": [
       "         id                                               name    host_id  \\\n",
       "0  44419781                     Studio Suite | Business Travel  348430184   \n",
       "1  44429201   Beautiful & Cozy One Bedroom Condo In Yorkville!  354808129   \n",
       "2  44429908  Stylish Roncesvalles Private Suite w/ Tech Extras   37415518   \n",
       "3  44430872                    Newly Renovated 2nd floor Suite  358865808   \n",
       "4  44434249                     Zahid's Castle for four guests  358919585   \n",
       "\n",
       "  host_name       neighbourhood  latitude  longitude        room_type  price  \\\n",
       "0    Avalon               Annex  43.67127  -79.39461  Entire home/apt    155   \n",
       "1      Erin               Annex  43.67142  -79.39487  Entire home/apt    120   \n",
       "2   Anthony        Roncesvalles  43.64055  -79.43939  Entire home/apt     95   \n",
       "3       Joe  Weston-Pellam Park  43.66801  -79.45752  Entire home/apt    115   \n",
       "4     Zahid          Cliffcrest  43.71878  -79.25161  Entire home/apt     60   \n",
       "\n",
       "   minimum_nights  number_of_reviews  reviews_per_month  \\\n",
       "0               2               34.0               1.86   \n",
       "1              30                3.0               0.17   \n",
       "2               3               37.0               2.47   \n",
       "3               3                4.0               1.08   \n",
       "4               2               19.0               0.94   \n",
       "\n",
       "   calculated_host_listings_count  availability_365  number_of_reviews_ltm  \\\n",
       "0                             8.5               308                    7.5   \n",
       "1                             7.0                35                    2.0   \n",
       "2                             1.0               117                    7.5   \n",
       "3                             1.0                79                    4.0   \n",
       "4                             1.0                 0                    6.0   \n",
       "\n",
       "   Compound Score Sentiment  \n",
       "0        0.670770  Positive  \n",
       "1        0.910667  Positive  \n",
       "2        0.907546  Positive  \n",
       "3        0.878850  Positive  \n",
       "4        0.856045  Positive  "
      ]
     },
     "execution_count": 6,
     "metadata": {},
     "output_type": "execute_result"
    }
   ],
   "source": [
    "df.head()"
   ]
  },
  {
   "cell_type": "code",
   "execution_count": 7,
   "id": "6ad3d0da",
   "metadata": {},
   "outputs": [
    {
     "name": "stdout",
     "output_type": "stream",
     "text": [
      "<class 'pandas.core.frame.DataFrame'>\n",
      "RangeIndex: 11720 entries, 0 to 11719\n",
      "Data columns (total 17 columns):\n",
      " #   Column                          Non-Null Count  Dtype  \n",
      "---  ------                          --------------  -----  \n",
      " 0   id                              11720 non-null  int64  \n",
      " 1   name                            11720 non-null  object \n",
      " 2   host_id                         11720 non-null  int64  \n",
      " 3   host_name                       11720 non-null  object \n",
      " 4   neighbourhood                   11720 non-null  object \n",
      " 5   latitude                        11720 non-null  float64\n",
      " 6   longitude                       11720 non-null  float64\n",
      " 7   room_type                       11720 non-null  object \n",
      " 8   price                           11720 non-null  int64  \n",
      " 9   minimum_nights                  11720 non-null  int64  \n",
      " 10  number_of_reviews               11720 non-null  float64\n",
      " 11  reviews_per_month               11720 non-null  float64\n",
      " 12  calculated_host_listings_count  11720 non-null  float64\n",
      " 13  availability_365                11720 non-null  int64  \n",
      " 14  number_of_reviews_ltm           11720 non-null  float64\n",
      " 15  Compound Score                  11720 non-null  float64\n",
      " 16  Sentiment                       11720 non-null  object \n",
      "dtypes: float64(7), int64(5), object(5)\n",
      "memory usage: 1.5+ MB\n"
     ]
    }
   ],
   "source": [
    "df.info()"
   ]
  },
  {
   "cell_type": "code",
   "execution_count": 8,
   "id": "8e096d96",
   "metadata": {},
   "outputs": [],
   "source": [
    "df.neighbourhood=df.neighbourhood.astype(\"category\")\n",
    "df.room_type=df.room_type.astype(\"category\")\n",
    "df.Sentiment=df.Sentiment.astype(\"category\")"
   ]
  },
  {
   "cell_type": "code",
   "execution_count": 9,
   "id": "0ae34807",
   "metadata": {},
   "outputs": [
    {
     "name": "stdout",
     "output_type": "stream",
     "text": [
      "<class 'pandas.core.frame.DataFrame'>\n",
      "RangeIndex: 11720 entries, 0 to 11719\n",
      "Data columns (total 17 columns):\n",
      " #   Column                          Non-Null Count  Dtype   \n",
      "---  ------                          --------------  -----   \n",
      " 0   id                              11720 non-null  int64   \n",
      " 1   name                            11720 non-null  object  \n",
      " 2   host_id                         11720 non-null  int64   \n",
      " 3   host_name                       11720 non-null  object  \n",
      " 4   neighbourhood                   11720 non-null  category\n",
      " 5   latitude                        11720 non-null  float64 \n",
      " 6   longitude                       11720 non-null  float64 \n",
      " 7   room_type                       11720 non-null  category\n",
      " 8   price                           11720 non-null  int64   \n",
      " 9   minimum_nights                  11720 non-null  int64   \n",
      " 10  number_of_reviews               11720 non-null  float64 \n",
      " 11  reviews_per_month               11720 non-null  float64 \n",
      " 12  calculated_host_listings_count  11720 non-null  float64 \n",
      " 13  availability_365                11720 non-null  int64   \n",
      " 14  number_of_reviews_ltm           11720 non-null  float64 \n",
      " 15  Compound Score                  11720 non-null  float64 \n",
      " 16  Sentiment                       11720 non-null  category\n",
      "dtypes: category(3), float64(7), int64(5), object(2)\n",
      "memory usage: 1.3+ MB\n"
     ]
    }
   ],
   "source": [
    "df.info()"
   ]
  },
  {
   "cell_type": "code",
   "execution_count": 10,
   "id": "7076917d",
   "metadata": {},
   "outputs": [
    {
     "data": {
      "text/plain": [
       "Index(['id', 'name', 'host_id', 'host_name', 'neighbourhood', 'latitude',\n",
       "       'longitude', 'room_type', 'price', 'minimum_nights',\n",
       "       'number_of_reviews', 'reviews_per_month',\n",
       "       'calculated_host_listings_count', 'availability_365',\n",
       "       'number_of_reviews_ltm', 'Compound Score', 'Sentiment'],\n",
       "      dtype='object')"
      ]
     },
     "execution_count": 10,
     "metadata": {},
     "output_type": "execute_result"
    }
   ],
   "source": [
    "df.columns"
   ]
  },
  {
   "cell_type": "code",
   "execution_count": 11,
   "id": "7e0675ef",
   "metadata": {},
   "outputs": [],
   "source": [
    "subset = ['neighbourhood', 'latitude','longitude', 'room_type', 'price','minimum_nights',\n",
    "       'number_of_reviews', 'reviews_per_month','availability_365','number_of_reviews_ltm', 'Sentiment']"
   ]
  },
  {
   "cell_type": "code",
   "execution_count": 12,
   "id": "0a20d32f",
   "metadata": {},
   "outputs": [],
   "source": [
    "df1 = df[subset]"
   ]
  },
  {
   "cell_type": "code",
   "execution_count": 13,
   "id": "7f5e3c03",
   "metadata": {},
   "outputs": [
    {
     "data": {
      "text/html": [
       "<div>\n",
       "<style scoped>\n",
       "    .dataframe tbody tr th:only-of-type {\n",
       "        vertical-align: middle;\n",
       "    }\n",
       "\n",
       "    .dataframe tbody tr th {\n",
       "        vertical-align: top;\n",
       "    }\n",
       "\n",
       "    .dataframe thead th {\n",
       "        text-align: right;\n",
       "    }\n",
       "</style>\n",
       "<table border=\"1\" class=\"dataframe\">\n",
       "  <thead>\n",
       "    <tr style=\"text-align: right;\">\n",
       "      <th></th>\n",
       "      <th>neighbourhood</th>\n",
       "      <th>latitude</th>\n",
       "      <th>longitude</th>\n",
       "      <th>room_type</th>\n",
       "      <th>price</th>\n",
       "      <th>minimum_nights</th>\n",
       "      <th>number_of_reviews</th>\n",
       "      <th>reviews_per_month</th>\n",
       "      <th>availability_365</th>\n",
       "      <th>number_of_reviews_ltm</th>\n",
       "      <th>Sentiment</th>\n",
       "    </tr>\n",
       "  </thead>\n",
       "  <tbody>\n",
       "    <tr>\n",
       "      <th>0</th>\n",
       "      <td>Annex</td>\n",
       "      <td>43.67127</td>\n",
       "      <td>-79.39461</td>\n",
       "      <td>Entire home/apt</td>\n",
       "      <td>155</td>\n",
       "      <td>2</td>\n",
       "      <td>34.0</td>\n",
       "      <td>1.86</td>\n",
       "      <td>308</td>\n",
       "      <td>7.5</td>\n",
       "      <td>Positive</td>\n",
       "    </tr>\n",
       "    <tr>\n",
       "      <th>1</th>\n",
       "      <td>Annex</td>\n",
       "      <td>43.67142</td>\n",
       "      <td>-79.39487</td>\n",
       "      <td>Entire home/apt</td>\n",
       "      <td>120</td>\n",
       "      <td>30</td>\n",
       "      <td>3.0</td>\n",
       "      <td>0.17</td>\n",
       "      <td>35</td>\n",
       "      <td>2.0</td>\n",
       "      <td>Positive</td>\n",
       "    </tr>\n",
       "    <tr>\n",
       "      <th>2</th>\n",
       "      <td>Roncesvalles</td>\n",
       "      <td>43.64055</td>\n",
       "      <td>-79.43939</td>\n",
       "      <td>Entire home/apt</td>\n",
       "      <td>95</td>\n",
       "      <td>3</td>\n",
       "      <td>37.0</td>\n",
       "      <td>2.47</td>\n",
       "      <td>117</td>\n",
       "      <td>7.5</td>\n",
       "      <td>Positive</td>\n",
       "    </tr>\n",
       "    <tr>\n",
       "      <th>3</th>\n",
       "      <td>Weston-Pellam Park</td>\n",
       "      <td>43.66801</td>\n",
       "      <td>-79.45752</td>\n",
       "      <td>Entire home/apt</td>\n",
       "      <td>115</td>\n",
       "      <td>3</td>\n",
       "      <td>4.0</td>\n",
       "      <td>1.08</td>\n",
       "      <td>79</td>\n",
       "      <td>4.0</td>\n",
       "      <td>Positive</td>\n",
       "    </tr>\n",
       "    <tr>\n",
       "      <th>4</th>\n",
       "      <td>Cliffcrest</td>\n",
       "      <td>43.71878</td>\n",
       "      <td>-79.25161</td>\n",
       "      <td>Entire home/apt</td>\n",
       "      <td>60</td>\n",
       "      <td>2</td>\n",
       "      <td>19.0</td>\n",
       "      <td>0.94</td>\n",
       "      <td>0</td>\n",
       "      <td>6.0</td>\n",
       "      <td>Positive</td>\n",
       "    </tr>\n",
       "    <tr>\n",
       "      <th>...</th>\n",
       "      <td>...</td>\n",
       "      <td>...</td>\n",
       "      <td>...</td>\n",
       "      <td>...</td>\n",
       "      <td>...</td>\n",
       "      <td>...</td>\n",
       "      <td>...</td>\n",
       "      <td>...</td>\n",
       "      <td>...</td>\n",
       "      <td>...</td>\n",
       "      <td>...</td>\n",
       "    </tr>\n",
       "    <tr>\n",
       "      <th>11715</th>\n",
       "      <td>Newtonbrook East</td>\n",
       "      <td>43.80212</td>\n",
       "      <td>-79.41959</td>\n",
       "      <td>Entire home/apt</td>\n",
       "      <td>139</td>\n",
       "      <td>3</td>\n",
       "      <td>3.0</td>\n",
       "      <td>0.77</td>\n",
       "      <td>26</td>\n",
       "      <td>3.0</td>\n",
       "      <td>Positive</td>\n",
       "    </tr>\n",
       "    <tr>\n",
       "      <th>11716</th>\n",
       "      <td>Eringate-Centennial-West Deane</td>\n",
       "      <td>43.64060</td>\n",
       "      <td>-79.58952</td>\n",
       "      <td>Entire home/apt</td>\n",
       "      <td>115</td>\n",
       "      <td>3</td>\n",
       "      <td>1.0</td>\n",
       "      <td>0.27</td>\n",
       "      <td>156</td>\n",
       "      <td>1.0</td>\n",
       "      <td>Positive</td>\n",
       "    </tr>\n",
       "    <tr>\n",
       "      <th>11717</th>\n",
       "      <td>West Humber-Clairville</td>\n",
       "      <td>43.69489</td>\n",
       "      <td>-79.60727</td>\n",
       "      <td>Private room</td>\n",
       "      <td>80</td>\n",
       "      <td>1</td>\n",
       "      <td>11.0</td>\n",
       "      <td>2.47</td>\n",
       "      <td>17</td>\n",
       "      <td>7.5</td>\n",
       "      <td>Positive</td>\n",
       "    </tr>\n",
       "    <tr>\n",
       "      <th>11718</th>\n",
       "      <td>West Humber-Clairville</td>\n",
       "      <td>43.69492</td>\n",
       "      <td>-79.60864</td>\n",
       "      <td>Private room</td>\n",
       "      <td>64</td>\n",
       "      <td>1</td>\n",
       "      <td>12.0</td>\n",
       "      <td>2.47</td>\n",
       "      <td>20</td>\n",
       "      <td>7.5</td>\n",
       "      <td>Positive</td>\n",
       "    </tr>\n",
       "    <tr>\n",
       "      <th>11719</th>\n",
       "      <td>Steeles</td>\n",
       "      <td>43.82399</td>\n",
       "      <td>-79.31572</td>\n",
       "      <td>Private room</td>\n",
       "      <td>65</td>\n",
       "      <td>1</td>\n",
       "      <td>3.0</td>\n",
       "      <td>2.20</td>\n",
       "      <td>365</td>\n",
       "      <td>3.0</td>\n",
       "      <td>Positive</td>\n",
       "    </tr>\n",
       "  </tbody>\n",
       "</table>\n",
       "<p>11720 rows × 11 columns</p>\n",
       "</div>"
      ],
      "text/plain": [
       "                        neighbourhood  latitude  longitude        room_type  \\\n",
       "0                               Annex  43.67127  -79.39461  Entire home/apt   \n",
       "1                               Annex  43.67142  -79.39487  Entire home/apt   \n",
       "2                        Roncesvalles  43.64055  -79.43939  Entire home/apt   \n",
       "3                  Weston-Pellam Park  43.66801  -79.45752  Entire home/apt   \n",
       "4                          Cliffcrest  43.71878  -79.25161  Entire home/apt   \n",
       "...                               ...       ...        ...              ...   \n",
       "11715                Newtonbrook East  43.80212  -79.41959  Entire home/apt   \n",
       "11716  Eringate-Centennial-West Deane  43.64060  -79.58952  Entire home/apt   \n",
       "11717          West Humber-Clairville  43.69489  -79.60727     Private room   \n",
       "11718          West Humber-Clairville  43.69492  -79.60864     Private room   \n",
       "11719                         Steeles  43.82399  -79.31572     Private room   \n",
       "\n",
       "       price  minimum_nights  number_of_reviews  reviews_per_month  \\\n",
       "0        155               2               34.0               1.86   \n",
       "1        120              30                3.0               0.17   \n",
       "2         95               3               37.0               2.47   \n",
       "3        115               3                4.0               1.08   \n",
       "4         60               2               19.0               0.94   \n",
       "...      ...             ...                ...                ...   \n",
       "11715    139               3                3.0               0.77   \n",
       "11716    115               3                1.0               0.27   \n",
       "11717     80               1               11.0               2.47   \n",
       "11718     64               1               12.0               2.47   \n",
       "11719     65               1                3.0               2.20   \n",
       "\n",
       "       availability_365  number_of_reviews_ltm Sentiment  \n",
       "0                   308                    7.5  Positive  \n",
       "1                    35                    2.0  Positive  \n",
       "2                   117                    7.5  Positive  \n",
       "3                    79                    4.0  Positive  \n",
       "4                     0                    6.0  Positive  \n",
       "...                 ...                    ...       ...  \n",
       "11715                26                    3.0  Positive  \n",
       "11716               156                    1.0  Positive  \n",
       "11717                17                    7.5  Positive  \n",
       "11718                20                    7.5  Positive  \n",
       "11719               365                    3.0  Positive  \n",
       "\n",
       "[11720 rows x 11 columns]"
      ]
     },
     "execution_count": 13,
     "metadata": {},
     "output_type": "execute_result"
    }
   ],
   "source": [
    "df1"
   ]
  },
  {
   "cell_type": "code",
   "execution_count": 14,
   "id": "6705dabf",
   "metadata": {},
   "outputs": [
    {
     "data": {
      "text/plain": [
       "<AxesSubplot:title={'center':'correlation of variables with price'}>"
      ]
     },
     "execution_count": 14,
     "metadata": {},
     "output_type": "execute_result"
    },
    {
     "data": {
      "image/png": "[encoded data removed]",
      "text/plain": [
       "<Figure size 1152x288 with 1 Axes>"
      ]
     },
     "metadata": {
      "needs_background": "light"
     },
     "output_type": "display_data"
    }
   ],
   "source": [
    "X = df1.drop(['price'], axis=1)\n",
    "y = df1['price']\n",
    "\n",
    "X.corrwith(y).plot.bar(figsize=(16,4),title='correlation of variables with price',fontsize=15,rot=90,grid=True)"
   ]
  },
  {
   "cell_type": "code",
   "execution_count": 15,
   "id": "4920dc24",
   "metadata": {},
   "outputs": [],
   "source": [
    "#sns.pairplot(df1,hue='price')"
   ]
  },
  {
   "cell_type": "markdown",
   "id": "126cf8ed",
   "metadata": {},
   "source": [
    "## Label Encoding"
   ]
  },
  {
   "cell_type": "code",
   "execution_count": 16,
   "id": "16c1b848",
   "metadata": {},
   "outputs": [
    {
     "name": "stdout",
     "output_type": "stream",
     "text": [
      "{0: 'Negative', 1: 'Neutral', 2: 'Positive'}\n",
      "{0: 'Entire home/apt', 1: 'Hotel room', 2: 'Private room', 3: 'Shared room'}\n",
      "{0: 'Agincourt North', 1: 'Agincourt South-Malvern West', 2: 'Alderwood', 3: 'Annex', 4: 'Banbury-Don Mills', 5: 'Bathurst Manor', 6: 'Bay Street Corridor', 7: 'Bayview Village', 8: 'Bayview Woods-Steeles', 9: 'Bedford Park-Nortown', 10: 'Beechborough-Greenbrook', 11: 'Bendale', 12: 'Birchcliffe-Cliffside', 13: 'Black Creek', 14: 'Blake-Jones', 15: 'Briar Hill-Belgravia', 16: 'Bridle Path-Sunnybrook-York Mills', 17: 'Broadview North', 18: 'Brookhaven-Amesbury', 19: 'Cabbagetown-South St.James Town', 20: 'Caledonia-Fairbank', 21: 'Casa Loma', 22: 'Centennial Scarborough', 23: 'Church-Yonge Corridor', 24: 'Clairlea-Birchmount', 25: 'Clanton Park', 26: 'Cliffcrest', 27: 'Corso Italia-Davenport', 28: 'Danforth', 29: 'Danforth East York', 30: 'Don Valley Village', 31: 'Dorset Park', 32: 'Dovercourt-Wallace Emerson-Junction', 33: 'Downsview-Roding-CFB', 34: 'Dufferin Grove', 35: 'East End-Danforth', 36: 'Edenbridge-Humber Valley', 37: 'Eglinton East', 38: 'Elms-Old Rexdale', 39: 'Englemount-Lawrence', 40: 'Eringate-Centennial-West Deane', 41: 'Etobicoke West Mall', 42: 'Flemingdon Park', 43: 'Forest Hill North', 44: 'Forest Hill South', 45: 'Glenfield-Jane Heights', 46: 'Greenwood-Coxwell', 47: 'Guildwood', 48: 'Henry Farm', 49: 'High Park North', 50: 'High Park-Swansea', 51: 'Highland Creek', 52: 'Hillcrest Village', 53: 'Humber Heights-Westmount', 54: 'Humber Summit', 55: 'Humbermede', 56: 'Humewood-Cedarvale', 57: 'Ionview', 58: 'Islington-City Centre West', 59: 'Junction Area', 60: 'Keelesdale-Eglinton West', 61: 'Kennedy Park', 62: 'Kensington-Chinatown', 63: 'Kingsview Village-The Westway', 64: 'Kingsway South', 65: \"L'Amoreaux\", 66: 'Lambton Baby Point', 67: 'Lansing-Westgate', 68: 'Lawrence Park North', 69: 'Lawrence Park South', 70: 'Leaside-Bennington', 71: 'Little Portugal', 72: 'Long Branch', 73: 'Malvern', 74: 'Maple Leaf', 75: 'Markland Wood', 76: 'Milliken', 77: 'Mimico (includes Humber Bay Shores)', 78: 'Morningside', 79: 'Moss Park', 80: 'Mount Dennis', 81: 'Mount Olive-Silverstone-Jamestown', 82: 'Mount Pleasant East', 83: 'Mount Pleasant West', 84: 'New Toronto', 85: 'Newtonbrook East', 86: 'Newtonbrook West', 87: 'Niagara', 88: 'North Riverdale', 89: 'North St.James Town', 90: \"O'Connor-Parkview\", 91: 'Oakridge', 92: 'Oakwood Village', 93: 'Old East York', 94: 'Palmerston-Little Italy', 95: 'Parkwoods-Donalda', 96: 'Pelmo Park-Humberlea', 97: 'Playter Estates-Danforth', 98: 'Pleasant View', 99: 'Princess-Rosethorn', 100: 'Regent Park', 101: 'Rexdale-Kipling', 102: 'Rockcliffe-Smythe', 103: 'Roncesvalles', 104: 'Rosedale-Moore Park', 105: 'Rouge', 106: 'Runnymede-Bloor West Village', 107: 'Scarborough Village', 108: 'South Parkdale', 109: 'South Riverdale', 110: 'St.Andrew-Windfields', 111: 'Steeles', 112: 'Stonegate-Queensway', 113: \"Tam O'Shanter-Sullivan\", 114: 'Taylor-Massey', 115: 'The Beaches', 116: 'Thistletown-Beaumond Heights', 117: 'Thorncliffe Park', 118: 'Trinity-Bellwoods', 119: 'University', 120: 'Victoria Village', 121: 'Waterfront Communities-The Island', 122: 'West Hill', 123: 'West Humber-Clairville', 124: 'Westminster-Branson', 125: 'Weston', 126: 'Weston-Pellam Park', 127: 'Wexford/Maryvale', 128: 'Willowdale East', 129: 'Willowdale West', 130: 'Willowridge-Martingrove-Richview', 131: 'Woburn', 132: 'Woodbine Corridor', 133: 'Woodbine-Lumsden', 134: 'Wychwood', 135: 'Yonge-Eglinton', 136: 'Yonge-St.Clair', 137: 'York University Heights', 138: 'Yorkdale-Glen Park'}\n"
     ]
    }
   ],
   "source": [
    "SentimentDict = dict(enumerate(df1['Sentiment'].cat.categories))\n",
    "print(SentimentDict)\n",
    "Room_TypeDict = dict(enumerate(df1['room_type'].cat.categories))\n",
    "print(Room_TypeDict)\n",
    "NeighbourhoodDict = dict(enumerate(df1['neighbourhood'].cat.categories))\n",
    "print(NeighbourhoodDict)"
   ]
  },
  {
   "cell_type": "code",
   "execution_count": 17,
   "id": "3997718a",
   "metadata": {},
   "outputs": [],
   "source": [
    "df1['neighbourhood']=df1['neighbourhood'].cat.codes\n",
    "df1['room_type']=df1['room_type'].cat.codes\n",
    "df1['Sentiment']=df1['Sentiment'].cat.codes"
   ]
  },
  {
   "cell_type": "code",
   "execution_count": 18,
   "id": "7772bf8a",
   "metadata": {},
   "outputs": [
    {
     "data": {
      "text/html": [
       "<div>\n",
       "<style scoped>\n",
       "    .dataframe tbody tr th:only-of-type {\n",
       "        vertical-align: middle;\n",
       "    }\n",
       "\n",
       "    .dataframe tbody tr th {\n",
       "        vertical-align: top;\n",
       "    }\n",
       "\n",
       "    .dataframe thead th {\n",
       "        text-align: right;\n",
       "    }\n",
       "</style>\n",
       "<table border=\"1\" class=\"dataframe\">\n",
       "  <thead>\n",
       "    <tr style=\"text-align: right;\">\n",
       "      <th></th>\n",
       "      <th>neighbourhood</th>\n",
       "      <th>latitude</th>\n",
       "      <th>longitude</th>\n",
       "      <th>room_type</th>\n",
       "      <th>price</th>\n",
       "      <th>minimum_nights</th>\n",
       "      <th>number_of_reviews</th>\n",
       "      <th>reviews_per_month</th>\n",
       "      <th>availability_365</th>\n",
       "      <th>number_of_reviews_ltm</th>\n",
       "      <th>Sentiment</th>\n",
       "    </tr>\n",
       "  </thead>\n",
       "  <tbody>\n",
       "    <tr>\n",
       "      <th>0</th>\n",
       "      <td>3</td>\n",
       "      <td>43.67127</td>\n",
       "      <td>-79.39461</td>\n",
       "      <td>0</td>\n",
       "      <td>155</td>\n",
       "      <td>2</td>\n",
       "      <td>34.0</td>\n",
       "      <td>1.86</td>\n",
       "      <td>308</td>\n",
       "      <td>7.5</td>\n",
       "      <td>2</td>\n",
       "    </tr>\n",
       "    <tr>\n",
       "      <th>1</th>\n",
       "      <td>3</td>\n",
       "      <td>43.67142</td>\n",
       "      <td>-79.39487</td>\n",
       "      <td>0</td>\n",
       "      <td>120</td>\n",
       "      <td>30</td>\n",
       "      <td>3.0</td>\n",
       "      <td>0.17</td>\n",
       "      <td>35</td>\n",
       "      <td>2.0</td>\n",
       "      <td>2</td>\n",
       "    </tr>\n",
       "    <tr>\n",
       "      <th>2</th>\n",
       "      <td>103</td>\n",
       "      <td>43.64055</td>\n",
       "      <td>-79.43939</td>\n",
       "      <td>0</td>\n",
       "      <td>95</td>\n",
       "      <td>3</td>\n",
       "      <td>37.0</td>\n",
       "      <td>2.47</td>\n",
       "      <td>117</td>\n",
       "      <td>7.5</td>\n",
       "      <td>2</td>\n",
       "    </tr>\n",
       "    <tr>\n",
       "      <th>3</th>\n",
       "      <td>126</td>\n",
       "      <td>43.66801</td>\n",
       "      <td>-79.45752</td>\n",
       "      <td>0</td>\n",
       "      <td>115</td>\n",
       "      <td>3</td>\n",
       "      <td>4.0</td>\n",
       "      <td>1.08</td>\n",
       "      <td>79</td>\n",
       "      <td>4.0</td>\n",
       "      <td>2</td>\n",
       "    </tr>\n",
       "    <tr>\n",
       "      <th>4</th>\n",
       "      <td>26</td>\n",
       "      <td>43.71878</td>\n",
       "      <td>-79.25161</td>\n",
       "      <td>0</td>\n",
       "      <td>60</td>\n",
       "      <td>2</td>\n",
       "      <td>19.0</td>\n",
       "      <td>0.94</td>\n",
       "      <td>0</td>\n",
       "      <td>6.0</td>\n",
       "      <td>2</td>\n",
       "    </tr>\n",
       "  </tbody>\n",
       "</table>\n",
       "</div>"
      ],
      "text/plain": [
       "   neighbourhood  latitude  longitude  room_type  price  minimum_nights  \\\n",
       "0              3  43.67127  -79.39461          0    155               2   \n",
       "1              3  43.67142  -79.39487          0    120              30   \n",
       "2            103  43.64055  -79.43939          0     95               3   \n",
       "3            126  43.66801  -79.45752          0    115               3   \n",
       "4             26  43.71878  -79.25161          0     60               2   \n",
       "\n",
       "   number_of_reviews  reviews_per_month  availability_365  \\\n",
       "0               34.0               1.86               308   \n",
       "1                3.0               0.17                35   \n",
       "2               37.0               2.47               117   \n",
       "3                4.0               1.08                79   \n",
       "4               19.0               0.94                 0   \n",
       "\n",
       "   number_of_reviews_ltm  Sentiment  \n",
       "0                    7.5          2  \n",
       "1                    2.0          2  \n",
       "2                    7.5          2  \n",
       "3                    4.0          2  \n",
       "4                    6.0          2  "
      ]
     },
     "execution_count": 18,
     "metadata": {},
     "output_type": "execute_result"
    }
   ],
   "source": [
    "df1.head()"
   ]
  },
  {
   "cell_type": "code",
   "execution_count": 19,
   "id": "5c11f40a",
   "metadata": {},
   "outputs": [
    {
     "name": "stdout",
     "output_type": "stream",
     "text": [
      "<class 'pandas.core.frame.DataFrame'>\n",
      "RangeIndex: 11720 entries, 0 to 11719\n",
      "Data columns (total 11 columns):\n",
      " #   Column                 Non-Null Count  Dtype  \n",
      "---  ------                 --------------  -----  \n",
      " 0   neighbourhood          11720 non-null  int16  \n",
      " 1   latitude               11720 non-null  float64\n",
      " 2   longitude              11720 non-null  float64\n",
      " 3   room_type              11720 non-null  int8   \n",
      " 4   price                  11720 non-null  int64  \n",
      " 5   minimum_nights         11720 non-null  int64  \n",
      " 6   number_of_reviews      11720 non-null  float64\n",
      " 7   reviews_per_month      11720 non-null  float64\n",
      " 8   availability_365       11720 non-null  int64  \n",
      " 9   number_of_reviews_ltm  11720 non-null  float64\n",
      " 10  Sentiment              11720 non-null  int8   \n",
      "dtypes: float64(5), int16(1), int64(3), int8(2)\n",
      "memory usage: 778.4 KB\n"
     ]
    }
   ],
   "source": [
    "df1.info()"
   ]
  },
  {
   "cell_type": "code",
   "execution_count": 20,
   "id": "93cf173c",
   "metadata": {},
   "outputs": [],
   "source": [
    "X_new=df1.drop(['price'],axis=1)\n",
    "y_new=df1['price']"
   ]
  },
  {
   "cell_type": "markdown",
   "id": "9acc7d3c",
   "metadata": {},
   "source": [
    "## Data Normalization"
   ]
  },
  {
   "cell_type": "code",
   "execution_count": 21,
   "id": "05d5de03",
   "metadata": {},
   "outputs": [],
   "source": [
    "from sklearn.preprocessing import MinMaxScaler"
   ]
  },
  {
   "cell_type": "code",
   "execution_count": 22,
   "id": "98055363",
   "metadata": {},
   "outputs": [
    {
     "data": {
      "text/html": [
       "<div>\n",
       "<style scoped>\n",
       "    .dataframe tbody tr th:only-of-type {\n",
       "        vertical-align: middle;\n",
       "    }\n",
       "\n",
       "    .dataframe tbody tr th {\n",
       "        vertical-align: top;\n",
       "    }\n",
       "\n",
       "    .dataframe thead th {\n",
       "        text-align: right;\n",
       "    }\n",
       "</style>\n",
       "<table border=\"1\" class=\"dataframe\">\n",
       "  <thead>\n",
       "    <tr style=\"text-align: right;\">\n",
       "      <th></th>\n",
       "      <th>neighbourhood</th>\n",
       "      <th>latitude</th>\n",
       "      <th>longitude</th>\n",
       "      <th>room_type</th>\n",
       "      <th>minimum_nights</th>\n",
       "      <th>number_of_reviews</th>\n",
       "      <th>reviews_per_month</th>\n",
       "      <th>availability_365</th>\n",
       "      <th>number_of_reviews_ltm</th>\n",
       "      <th>Sentiment</th>\n",
       "    </tr>\n",
       "  </thead>\n",
       "  <tbody>\n",
       "    <tr>\n",
       "      <th>0</th>\n",
       "      <td>0.021739</td>\n",
       "      <td>0.329537</td>\n",
       "      <td>0.459464</td>\n",
       "      <td>0.000000</td>\n",
       "      <td>0.015873</td>\n",
       "      <td>0.528</td>\n",
       "      <td>0.752033</td>\n",
       "      <td>0.843836</td>\n",
       "      <td>1.000000</td>\n",
       "      <td>1.0</td>\n",
       "    </tr>\n",
       "    <tr>\n",
       "      <th>1</th>\n",
       "      <td>0.021739</td>\n",
       "      <td>0.330120</td>\n",
       "      <td>0.458958</td>\n",
       "      <td>0.000000</td>\n",
       "      <td>0.460317</td>\n",
       "      <td>0.032</td>\n",
       "      <td>0.065041</td>\n",
       "      <td>0.095890</td>\n",
       "      <td>0.266667</td>\n",
       "      <td>1.0</td>\n",
       "    </tr>\n",
       "    <tr>\n",
       "      <th>2</th>\n",
       "      <td>0.746377</td>\n",
       "      <td>0.210129</td>\n",
       "      <td>0.372216</td>\n",
       "      <td>0.000000</td>\n",
       "      <td>0.031746</td>\n",
       "      <td>0.576</td>\n",
       "      <td>1.000000</td>\n",
       "      <td>0.320548</td>\n",
       "      <td>1.000000</td>\n",
       "      <td>1.0</td>\n",
       "    </tr>\n",
       "    <tr>\n",
       "      <th>3</th>\n",
       "      <td>0.913043</td>\n",
       "      <td>0.316866</td>\n",
       "      <td>0.336892</td>\n",
       "      <td>0.000000</td>\n",
       "      <td>0.031746</td>\n",
       "      <td>0.048</td>\n",
       "      <td>0.434959</td>\n",
       "      <td>0.216438</td>\n",
       "      <td>0.533333</td>\n",
       "      <td>1.0</td>\n",
       "    </tr>\n",
       "    <tr>\n",
       "      <th>4</th>\n",
       "      <td>0.188406</td>\n",
       "      <td>0.514207</td>\n",
       "      <td>0.738081</td>\n",
       "      <td>0.000000</td>\n",
       "      <td>0.015873</td>\n",
       "      <td>0.288</td>\n",
       "      <td>0.378049</td>\n",
       "      <td>0.000000</td>\n",
       "      <td>0.800000</td>\n",
       "      <td>1.0</td>\n",
       "    </tr>\n",
       "    <tr>\n",
       "      <th>...</th>\n",
       "      <td>...</td>\n",
       "      <td>...</td>\n",
       "      <td>...</td>\n",
       "      <td>...</td>\n",
       "      <td>...</td>\n",
       "      <td>...</td>\n",
       "      <td>...</td>\n",
       "      <td>...</td>\n",
       "      <td>...</td>\n",
       "      <td>...</td>\n",
       "    </tr>\n",
       "    <tr>\n",
       "      <th>11715</th>\n",
       "      <td>0.615942</td>\n",
       "      <td>0.838147</td>\n",
       "      <td>0.410794</td>\n",
       "      <td>0.000000</td>\n",
       "      <td>0.031746</td>\n",
       "      <td>0.032</td>\n",
       "      <td>0.308943</td>\n",
       "      <td>0.071233</td>\n",
       "      <td>0.400000</td>\n",
       "      <td>1.0</td>\n",
       "    </tr>\n",
       "    <tr>\n",
       "      <th>11716</th>\n",
       "      <td>0.289855</td>\n",
       "      <td>0.210324</td>\n",
       "      <td>0.079708</td>\n",
       "      <td>0.000000</td>\n",
       "      <td>0.031746</td>\n",
       "      <td>0.000</td>\n",
       "      <td>0.105691</td>\n",
       "      <td>0.427397</td>\n",
       "      <td>0.133333</td>\n",
       "      <td>1.0</td>\n",
       "    </tr>\n",
       "    <tr>\n",
       "      <th>11717</th>\n",
       "      <td>0.891304</td>\n",
       "      <td>0.421347</td>\n",
       "      <td>0.045124</td>\n",
       "      <td>0.666667</td>\n",
       "      <td>0.000000</td>\n",
       "      <td>0.160</td>\n",
       "      <td>1.000000</td>\n",
       "      <td>0.046575</td>\n",
       "      <td>1.000000</td>\n",
       "      <td>1.0</td>\n",
       "    </tr>\n",
       "    <tr>\n",
       "      <th>11718</th>\n",
       "      <td>0.891304</td>\n",
       "      <td>0.421464</td>\n",
       "      <td>0.042455</td>\n",
       "      <td>0.666667</td>\n",
       "      <td>0.000000</td>\n",
       "      <td>0.176</td>\n",
       "      <td>1.000000</td>\n",
       "      <td>0.054795</td>\n",
       "      <td>1.000000</td>\n",
       "      <td>1.0</td>\n",
       "    </tr>\n",
       "    <tr>\n",
       "      <th>11719</th>\n",
       "      <td>0.804348</td>\n",
       "      <td>0.923155</td>\n",
       "      <td>0.613171</td>\n",
       "      <td>0.666667</td>\n",
       "      <td>0.000000</td>\n",
       "      <td>0.032</td>\n",
       "      <td>0.890244</td>\n",
       "      <td>1.000000</td>\n",
       "      <td>0.400000</td>\n",
       "      <td>1.0</td>\n",
       "    </tr>\n",
       "  </tbody>\n",
       "</table>\n",
       "<p>11720 rows × 10 columns</p>\n",
       "</div>"
      ],
      "text/plain": [
       "       neighbourhood  latitude  longitude  room_type  minimum_nights  \\\n",
       "0           0.021739  0.329537   0.459464   0.000000        0.015873   \n",
       "1           0.021739  0.330120   0.458958   0.000000        0.460317   \n",
       "2           0.746377  0.210129   0.372216   0.000000        0.031746   \n",
       "3           0.913043  0.316866   0.336892   0.000000        0.031746   \n",
       "4           0.188406  0.514207   0.738081   0.000000        0.015873   \n",
       "...              ...       ...        ...        ...             ...   \n",
       "11715       0.615942  0.838147   0.410794   0.000000        0.031746   \n",
       "11716       0.289855  0.210324   0.079708   0.000000        0.031746   \n",
       "11717       0.891304  0.421347   0.045124   0.666667        0.000000   \n",
       "11718       0.891304  0.421464   0.042455   0.666667        0.000000   \n",
       "11719       0.804348  0.923155   0.613171   0.666667        0.000000   \n",
       "\n",
       "       number_of_reviews  reviews_per_month  availability_365  \\\n",
       "0                  0.528           0.752033          0.843836   \n",
       "1                  0.032           0.065041          0.095890   \n",
       "2                  0.576           1.000000          0.320548   \n",
       "3                  0.048           0.434959          0.216438   \n",
       "4                  0.288           0.378049          0.000000   \n",
       "...                  ...                ...               ...   \n",
       "11715              0.032           0.308943          0.071233   \n",
       "11716              0.000           0.105691          0.427397   \n",
       "11717              0.160           1.000000          0.046575   \n",
       "11718              0.176           1.000000          0.054795   \n",
       "11719              0.032           0.890244          1.000000   \n",
       "\n",
       "       number_of_reviews_ltm  Sentiment  \n",
       "0                   1.000000        1.0  \n",
       "1                   0.266667        1.0  \n",
       "2                   1.000000        1.0  \n",
       "3                   0.533333        1.0  \n",
       "4                   0.800000        1.0  \n",
       "...                      ...        ...  \n",
       "11715               0.400000        1.0  \n",
       "11716               0.133333        1.0  \n",
       "11717               1.000000        1.0  \n",
       "11718               1.000000        1.0  \n",
       "11719               0.400000        1.0  \n",
       "\n",
       "[11720 rows x 10 columns]"
      ]
     },
     "execution_count": 22,
     "metadata": {},
     "output_type": "execute_result"
    }
   ],
   "source": [
    "scaler=MinMaxScaler()\n",
    "scaler_df=pd.DataFrame(scaler.fit_transform(X_new),columns=X_new.columns)\n",
    "scaler_df"
   ]
  },
  {
   "cell_type": "code",
   "execution_count": 23,
   "id": "657c8fb0",
   "metadata": {},
   "outputs": [],
   "source": [
    "from sklearn.feature_selection import SelectKBest\n",
    "from sklearn.feature_selection import chi2"
   ]
  },
  {
   "cell_type": "code",
   "execution_count": 24,
   "id": "3e0f3a74",
   "metadata": {},
   "outputs": [],
   "source": [
    "bestfeatures = SelectKBest(score_func=chi2, k=10)\n",
    "fit = bestfeatures.fit(scaler_df,y_new)"
   ]
  },
  {
   "cell_type": "code",
   "execution_count": 25,
   "id": "9ffa3a89",
   "metadata": {},
   "outputs": [],
   "source": [
    "dfscores=pd.DataFrame(fit.scores_)\n",
    "dfcolumns=pd.DataFrame(scaler_df.columns)"
   ]
  },
  {
   "cell_type": "code",
   "execution_count": 26,
   "id": "663a1a1a",
   "metadata": {},
   "outputs": [],
   "source": [
    "featureScores=pd.concat([dfcolumns,dfscores],axis=1)\n",
    "featureScores.columns=['Specs','Score']"
   ]
  },
  {
   "cell_type": "code",
   "execution_count": 27,
   "id": "d89bffe3",
   "metadata": {},
   "outputs": [
    {
     "data": {
      "text/html": [
       "<div>\n",
       "<style scoped>\n",
       "    .dataframe tbody tr th:only-of-type {\n",
       "        vertical-align: middle;\n",
       "    }\n",
       "\n",
       "    .dataframe tbody tr th {\n",
       "        vertical-align: top;\n",
       "    }\n",
       "\n",
       "    .dataframe thead th {\n",
       "        text-align: right;\n",
       "    }\n",
       "</style>\n",
       "<table border=\"1\" class=\"dataframe\">\n",
       "  <thead>\n",
       "    <tr style=\"text-align: right;\">\n",
       "      <th></th>\n",
       "      <th>Specs</th>\n",
       "      <th>Score</th>\n",
       "    </tr>\n",
       "  </thead>\n",
       "  <tbody>\n",
       "    <tr>\n",
       "      <th>0</th>\n",
       "      <td>neighbourhood</td>\n",
       "      <td>96.391658</td>\n",
       "    </tr>\n",
       "    <tr>\n",
       "      <th>1</th>\n",
       "      <td>latitude</td>\n",
       "      <td>168.947358</td>\n",
       "    </tr>\n",
       "    <tr>\n",
       "      <th>2</th>\n",
       "      <td>longitude</td>\n",
       "      <td>11.254096</td>\n",
       "    </tr>\n",
       "    <tr>\n",
       "      <th>3</th>\n",
       "      <td>room_type</td>\n",
       "      <td>2486.589178</td>\n",
       "    </tr>\n",
       "    <tr>\n",
       "      <th>4</th>\n",
       "      <td>minimum_nights</td>\n",
       "      <td>140.109809</td>\n",
       "    </tr>\n",
       "    <tr>\n",
       "      <th>5</th>\n",
       "      <td>number_of_reviews</td>\n",
       "      <td>299.596790</td>\n",
       "    </tr>\n",
       "    <tr>\n",
       "      <th>6</th>\n",
       "      <td>reviews_per_month</td>\n",
       "      <td>402.616414</td>\n",
       "    </tr>\n",
       "    <tr>\n",
       "      <th>7</th>\n",
       "      <td>availability_365</td>\n",
       "      <td>212.065452</td>\n",
       "    </tr>\n",
       "    <tr>\n",
       "      <th>8</th>\n",
       "      <td>number_of_reviews_ltm</td>\n",
       "      <td>482.410070</td>\n",
       "    </tr>\n",
       "    <tr>\n",
       "      <th>9</th>\n",
       "      <td>Sentiment</td>\n",
       "      <td>5.492908</td>\n",
       "    </tr>\n",
       "  </tbody>\n",
       "</table>\n",
       "</div>"
      ],
      "text/plain": [
       "                   Specs        Score\n",
       "0          neighbourhood    96.391658\n",
       "1               latitude   168.947358\n",
       "2              longitude    11.254096\n",
       "3              room_type  2486.589178\n",
       "4         minimum_nights   140.109809\n",
       "5      number_of_reviews   299.596790\n",
       "6      reviews_per_month   402.616414\n",
       "7       availability_365   212.065452\n",
       "8  number_of_reviews_ltm   482.410070\n",
       "9              Sentiment     5.492908"
      ]
     },
     "execution_count": 27,
     "metadata": {},
     "output_type": "execute_result"
    }
   ],
   "source": [
    "featureScores"
   ]
  },
  {
   "cell_type": "markdown",
   "id": "da739d98",
   "metadata": {},
   "source": [
    "## Modelling"
   ]
  },
  {
   "cell_type": "code",
   "execution_count": 28,
   "id": "325f5873",
   "metadata": {},
   "outputs": [],
   "source": [
    "from sklearn.model_selection import train_test_split\n",
    "from sklearn import linear_model\n",
    "from sklearn.neighbors import KNeighborsRegressor\n",
    "from sklearn.tree import DecisionTreeRegressor\n",
    "from sklearn.ensemble import RandomForestRegressor\n",
    "from sklearn.metrics import mean_squared_error"
   ]
  },
  {
   "cell_type": "code",
   "execution_count": 29,
   "id": "13034e47",
   "metadata": {},
   "outputs": [],
   "source": [
    "train_input,test_input,train_output,test_output = train_test_split(scaler_df, y_new,test_size=0.20, random_state=3)"
   ]
  },
  {
   "cell_type": "markdown",
   "id": "4ff3ccd7",
   "metadata": {},
   "source": [
    "# Linear Regression"
   ]
  },
  {
   "cell_type": "code",
   "execution_count": 30,
   "id": "5b092c56",
   "metadata": {},
   "outputs": [
    {
     "data": {
      "text/plain": [
       "65.54149366283829"
      ]
     },
     "execution_count": 30,
     "metadata": {},
     "output_type": "execute_result"
    }
   ],
   "source": [
    "reg = linear_model.LinearRegression()\n",
    "reg.fit(train_input,train_output)\n",
    "output_ln=reg.predict(test_input)\n",
    "outputln_train=reg.predict(train_input)\n",
    "rmse_ln = mean_squared_error(test_output,output_ln,squared=False)   ##squared=False will calculate the RMSE, true calculate MSE\n",
    "rmse_ln"
   ]
  },
  {
   "cell_type": "code",
   "execution_count": 31,
   "id": "3256c004",
   "metadata": {},
   "outputs": [
    {
     "data": {
      "text/plain": [
       "array([ 62.67787924, 181.44826069, 157.06747382, ..., 165.23542514,\n",
       "       170.22339223, 186.32507218])"
      ]
     },
     "execution_count": 31,
     "metadata": {},
     "output_type": "execute_result"
    }
   ],
   "source": [
    "output_ln"
   ]
  },
  {
   "cell_type": "code",
   "execution_count": 32,
   "id": "3ee1ddbf",
   "metadata": {},
   "outputs": [
    {
     "data": {
      "text/plain": [
       "10867     49\n",
       "9660     111\n",
       "2499     185\n",
       "7566      75\n",
       "5160     109\n",
       "        ... \n",
       "10018     44\n",
       "4322      48\n",
       "6129     319\n",
       "10526    100\n",
       "11095    119\n",
       "Name: price, Length: 2344, dtype: int64"
      ]
     },
     "execution_count": 32,
     "metadata": {},
     "output_type": "execute_result"
    }
   ],
   "source": [
    "test_output"
   ]
  },
  {
   "cell_type": "code",
   "execution_count": 54,
   "id": "83b67e20",
   "metadata": {},
   "outputs": [
    {
     "data": {
      "text/plain": [
       "array([  16.80138027,  -76.30844495,   46.16088382, -112.89827295,\n",
       "        -76.03695186,  -13.69476171,   -1.08837701,   31.24791087,\n",
       "        -18.5535672 ,    2.51733106])"
      ]
     },
     "execution_count": 54,
     "metadata": {},
     "output_type": "execute_result"
    }
   ],
   "source": [
    "importance = reg.coef_\n",
    "importance"
   ]
  },
  {
   "cell_type": "code",
   "execution_count": 57,
   "id": "9dd041ad",
   "metadata": {},
   "outputs": [
    {
     "name": "stdout",
     "output_type": "stream",
     "text": [
      "Feature: 0, Score: 16.80138\n",
      "Feature: 1, Score: -76.30844\n",
      "Feature: 2, Score: 46.16088\n",
      "Feature: 3, Score: -112.89827\n",
      "Feature: 4, Score: -76.03695\n",
      "Feature: 5, Score: -13.69476\n",
      "Feature: 6, Score: -1.08838\n",
      "Feature: 7, Score: 31.24791\n",
      "Feature: 8, Score: -18.55357\n",
      "Feature: 9, Score: 2.51733\n"
     ]
    },
    {
     "data": {
      "image/png": "[encoded data removed]",
      "text/plain": [
       "<Figure size 432x288 with 1 Axes>"
      ]
     },
     "metadata": {
      "needs_background": "light"
     },
     "output_type": "display_data"
    }
   ],
   "source": [
    "# summarize feature importance\n",
    "\n",
    "for i,v in enumerate(importance):\n",
    "\n",
    "    print('Feature: %0d, Score: %.5f' % (i,v))\n",
    "\n",
    "# plot feature importance\n",
    "\n",
    "plt.bar([x for x in range(len(importance))], importance)\n",
    "\n",
    "plt.show()"
   ]
  },
  {
   "cell_type": "code",
   "execution_count": 33,
   "id": "7bcb2de9",
   "metadata": {},
   "outputs": [
    {
     "data": {
      "image/png": "[encoded data removed]",
      "text/plain": [
       "<Figure size 432x720 with 1 Axes>"
      ]
     },
     "metadata": {
      "needs_background": "light"
     },
     "output_type": "display_data"
    }
   ],
   "source": [
    "plt.figure(figsize=(6, 10))\n",
    "ax1 = sns.distplot(test_output, hist=False, color=\"r\", label=\"Actual Value\")\n",
    "sns.distplot(output_ln, hist=False, color=\"b\", label=\"Predicted Values\" , ax=ax1)\n",
    "plt.title('DIST PLOT for test data linear regression ')\n",
    "plt.legend()\n",
    "plt.show()\n",
    "\n"
   ]
  },
  {
   "cell_type": "markdown",
   "id": "53a037c7",
   "metadata": {},
   "source": [
    "# KNN Regressor"
   ]
  },
  {
   "cell_type": "code",
   "execution_count": 35,
   "id": "604456fe",
   "metadata": {},
   "outputs": [
    {
     "data": {
      "text/plain": [
       "69.36827623229709"
      ]
     },
     "execution_count": 35,
     "metadata": {},
     "output_type": "execute_result"
    }
   ],
   "source": [
    "knn = KNeighborsRegressor()\n",
    "knn.fit(train_input,train_output)\n",
    "outputknn=knn.predict(test_input)\n",
    "rmse_knn = mean_squared_error(test_output,outputknn,squared=False)\n",
    "rmse_knn\n"
   ]
  },
  {
   "cell_type": "code",
   "execution_count": 61,
   "id": "740363d1",
   "metadata": {},
   "outputs": [
    {
     "data": {
      "image/png": "[encoded data removed]",
      "text/plain": [
       "<Figure size 432x720 with 1 Axes>"
      ]
     },
     "metadata": {
      "needs_background": "light"
     },
     "output_type": "display_data"
    }
   ],
   "source": [
    "plt.figure(figsize=(6, 10))\n",
    "ax1 = sns.distplot(test_output, hist=False, color=\"r\", label=\"Actual Value\")\n",
    "sns.distplot(outputknn, hist=False, color=\"b\", label=\"Predicted Values\" , ax=ax1)\n",
    "plt.title('DIST PLOT for test data KNN regressor')\n",
    "plt.legend()\n",
    "plt.show()\n",
    "\n"
   ]
  },
  {
   "cell_type": "markdown",
   "id": "17c5a8c8",
   "metadata": {},
   "source": [
    "# Decision Tree Regressor"
   ]
  },
  {
   "cell_type": "code",
   "execution_count": 36,
   "id": "99e216de",
   "metadata": {},
   "outputs": [
    {
     "data": {
      "text/plain": [
       "85.03954611079703"
      ]
     },
     "execution_count": 36,
     "metadata": {},
     "output_type": "execute_result"
    }
   ],
   "source": [
    "DT = DecisionTreeRegressor()\n",
    "DT.fit(train_input,train_output)\n",
    "outputDT=DT.predict(test_input)\n",
    "outputDT_train=DT.predict(train_input)\n",
    "\n",
    "\n",
    "rmse_DT = mean_squared_error(test_output,outputDT,squared=False)\n",
    "rmse_DT"
   ]
  },
  {
   "cell_type": "code",
   "execution_count": 37,
   "id": "c73850cb",
   "metadata": {},
   "outputs": [
    {
     "data": {
      "text/plain": [
       "array([ 30., 174., 119., ..., 127.,  63., 100.])"
      ]
     },
     "execution_count": 37,
     "metadata": {},
     "output_type": "execute_result"
    }
   ],
   "source": [
    "outputDT"
   ]
  },
  {
   "cell_type": "code",
   "execution_count": 64,
   "id": "ce1bd9ef",
   "metadata": {},
   "outputs": [
    {
     "name": "stdout",
     "output_type": "stream",
     "text": [
      "Feature: 0, Score: 0.04864\n",
      "Feature: 1, Score: 0.17355\n",
      "Feature: 2, Score: 0.16235\n",
      "Feature: 3, Score: 0.22321\n",
      "Feature: 4, Score: 0.06447\n",
      "Feature: 5, Score: 0.07579\n",
      "Feature: 6, Score: 0.10006\n",
      "Feature: 7, Score: 0.12070\n",
      "Feature: 8, Score: 0.02747\n",
      "Feature: 9, Score: 0.00376\n"
     ]
    },
    {
     "data": {
      "image/png": "[encoded data removed]",
      "text/plain": [
       "<Figure size 432x288 with 1 Axes>"
      ]
     },
     "metadata": {
      "needs_background": "light"
     },
     "output_type": "display_data"
    }
   ],
   "source": [
    "importance1 = DT.feature_importances_\n",
    "\n",
    "# summarize feature importance\n",
    "\n",
    "for i,v in enumerate(importance1):\n",
    "\n",
    "    print('Feature: %0d, Score: %.5f' % (i,v))\n",
    "\n",
    "# plot feature importance\n",
    "\n",
    "plt.bar([x for x in range(len(importance1))], importance1)\n",
    "\n",
    "plt.show()"
   ]
  },
  {
   "cell_type": "code",
   "execution_count": 38,
   "id": "ad7f6ec8",
   "metadata": {},
   "outputs": [
    {
     "data": {
      "image/png": "[encoded data removed]",
      "text/plain": [
       "<Figure size 432x720 with 1 Axes>"
      ]
     },
     "metadata": {
      "needs_background": "light"
     },
     "output_type": "display_data"
    }
   ],
   "source": [
    "plt.figure(figsize=(6, 10))\n",
    "ax1 = sns.distplot(test_output, hist=False, color=\"r\", label=\"Actual Value\")\n",
    "sns.distplot(outputDT, hist=False, color=\"b\", label=\"Predicted Values\" , ax=ax1)\n",
    "plt.title('DIST PLOT for test data Decision Tree ')\n",
    "plt.legend()\n",
    "plt.show()\n"
   ]
  },
  {
   "cell_type": "markdown",
   "id": "e84d7f02",
   "metadata": {},
   "source": [
    "# Random Forest Regressor"
   ]
  },
  {
   "cell_type": "code",
   "execution_count": 40,
   "id": "ca1acdbb",
   "metadata": {},
   "outputs": [
    {
     "data": {
      "text/plain": [
       "61.57555922972949"
      ]
     },
     "execution_count": 40,
     "metadata": {},
     "output_type": "execute_result"
    }
   ],
   "source": [
    "RF = RandomForestRegressor()\n",
    "RF.fit(train_input,train_output)\n",
    "outputRF=RF.predict(test_input)\n",
    "outputRF_train=RF.predict(train_input)\n",
    "\n",
    "rmse_RF = mean_squared_error(test_output,outputRF,squared=False)\n",
    "rmse_RF"
   ]
  },
  {
   "cell_type": "code",
   "execution_count": 41,
   "id": "4d27786c",
   "metadata": {},
   "outputs": [
    {
     "data": {
      "text/plain": [
       "array([ 42.73, 188.95, 129.26, ..., 158.73, 132.87, 157.77])"
      ]
     },
     "execution_count": 41,
     "metadata": {},
     "output_type": "execute_result"
    }
   ],
   "source": [
    "outputRF"
   ]
  },
  {
   "cell_type": "code",
   "execution_count": 66,
   "id": "17e87275",
   "metadata": {},
   "outputs": [
    {
     "name": "stdout",
     "output_type": "stream",
     "text": [
      "Feature: 0, Score: 0.05615\n",
      "Feature: 1, Score: 0.16740\n",
      "Feature: 2, Score: 0.16936\n",
      "Feature: 3, Score: 0.22299\n",
      "Feature: 4, Score: 0.06479\n",
      "Feature: 5, Score: 0.06852\n",
      "Feature: 6, Score: 0.09952\n",
      "Feature: 7, Score: 0.12047\n",
      "Feature: 8, Score: 0.02744\n",
      "Feature: 9, Score: 0.00335\n"
     ]
    },
    {
     "data": {
      "image/png": "[encoded data removed]",
      "text/plain": [
       "<Figure size 432x288 with 1 Axes>"
      ]
     },
     "metadata": {
      "needs_background": "light"
     },
     "output_type": "display_data"
    }
   ],
   "source": [
    "importance2 = RF.feature_importances_\n",
    "\n",
    "# summarize feature importance\n",
    "\n",
    "for i,v in enumerate(importance2):\n",
    "\n",
    "    print('Feature: %0d, Score: %.5f' % (i,v))\n",
    "\n",
    "# plot feature importance\n",
    "\n",
    "plt.bar([x for x in range(len(importance2))], importance2)\n",
    "\n",
    "plt.show()"
   ]
  },
  {
   "cell_type": "code",
   "execution_count": 42,
   "id": "bb016a2e",
   "metadata": {},
   "outputs": [
    {
     "data": {
      "image/png": "[encoded data removed]",
      "text/plain": [
       "<Figure size 432x720 with 1 Axes>"
      ]
     },
     "metadata": {
      "needs_background": "light"
     },
     "output_type": "display_data"
    }
   ],
   "source": [
    "plt.figure(figsize=(6, 10))\n",
    "ax1 = sns.distplot(test_output, hist=False, color=\"r\", label=\"Actual Value\")\n",
    "sns.distplot(outputRF, hist=False, color=\"b\", label=\"Predicted Values\" , ax=ax1)\n",
    "plt.title('DIST PLOT for test data Random Forest ')\n",
    "plt.legend()\n",
    "plt.show()\n"
   ]
  },
  {
   "cell_type": "code",
   "execution_count": 79,
   "id": "d0734264",
   "metadata": {},
   "outputs": [],
   "source": [
    "X_new1=df1.drop(['Sentiment','price'],axis=1)\n",
    "y_new1=df1['price']"
   ]
  },
  {
   "cell_type": "code",
   "execution_count": 80,
   "id": "0a2d1e98",
   "metadata": {},
   "outputs": [],
   "source": [
    "from sklearn.preprocessing import MinMaxScaler"
   ]
  },
  {
   "cell_type": "code",
   "execution_count": 81,
   "id": "03a901e2",
   "metadata": {},
   "outputs": [
    {
     "data": {
      "text/html": [
       "<div>\n",
       "<style scoped>\n",
       "    .dataframe tbody tr th:only-of-type {\n",
       "        vertical-align: middle;\n",
       "    }\n",
       "\n",
       "    .dataframe tbody tr th {\n",
       "        vertical-align: top;\n",
       "    }\n",
       "\n",
       "    .dataframe thead th {\n",
       "        text-align: right;\n",
       "    }\n",
       "</style>\n",
       "<table border=\"1\" class=\"dataframe\">\n",
       "  <thead>\n",
       "    <tr style=\"text-align: right;\">\n",
       "      <th></th>\n",
       "      <th>neighbourhood</th>\n",
       "      <th>latitude</th>\n",
       "      <th>longitude</th>\n",
       "      <th>room_type</th>\n",
       "      <th>minimum_nights</th>\n",
       "      <th>number_of_reviews</th>\n",
       "      <th>reviews_per_month</th>\n",
       "      <th>availability_365</th>\n",
       "      <th>number_of_reviews_ltm</th>\n",
       "    </tr>\n",
       "  </thead>\n",
       "  <tbody>\n",
       "    <tr>\n",
       "      <th>0</th>\n",
       "      <td>0.021739</td>\n",
       "      <td>0.329537</td>\n",
       "      <td>0.459464</td>\n",
       "      <td>0.000000</td>\n",
       "      <td>0.015873</td>\n",
       "      <td>0.528</td>\n",
       "      <td>0.752033</td>\n",
       "      <td>0.843836</td>\n",
       "      <td>1.000000</td>\n",
       "    </tr>\n",
       "    <tr>\n",
       "      <th>1</th>\n",
       "      <td>0.021739</td>\n",
       "      <td>0.330120</td>\n",
       "      <td>0.458958</td>\n",
       "      <td>0.000000</td>\n",
       "      <td>0.460317</td>\n",
       "      <td>0.032</td>\n",
       "      <td>0.065041</td>\n",
       "      <td>0.095890</td>\n",
       "      <td>0.266667</td>\n",
       "    </tr>\n",
       "    <tr>\n",
       "      <th>2</th>\n",
       "      <td>0.746377</td>\n",
       "      <td>0.210129</td>\n",
       "      <td>0.372216</td>\n",
       "      <td>0.000000</td>\n",
       "      <td>0.031746</td>\n",
       "      <td>0.576</td>\n",
       "      <td>1.000000</td>\n",
       "      <td>0.320548</td>\n",
       "      <td>1.000000</td>\n",
       "    </tr>\n",
       "    <tr>\n",
       "      <th>3</th>\n",
       "      <td>0.913043</td>\n",
       "      <td>0.316866</td>\n",
       "      <td>0.336892</td>\n",
       "      <td>0.000000</td>\n",
       "      <td>0.031746</td>\n",
       "      <td>0.048</td>\n",
       "      <td>0.434959</td>\n",
       "      <td>0.216438</td>\n",
       "      <td>0.533333</td>\n",
       "    </tr>\n",
       "    <tr>\n",
       "      <th>4</th>\n",
       "      <td>0.188406</td>\n",
       "      <td>0.514207</td>\n",
       "      <td>0.738081</td>\n",
       "      <td>0.000000</td>\n",
       "      <td>0.015873</td>\n",
       "      <td>0.288</td>\n",
       "      <td>0.378049</td>\n",
       "      <td>0.000000</td>\n",
       "      <td>0.800000</td>\n",
       "    </tr>\n",
       "    <tr>\n",
       "      <th>...</th>\n",
       "      <td>...</td>\n",
       "      <td>...</td>\n",
       "      <td>...</td>\n",
       "      <td>...</td>\n",
       "      <td>...</td>\n",
       "      <td>...</td>\n",
       "      <td>...</td>\n",
       "      <td>...</td>\n",
       "      <td>...</td>\n",
       "    </tr>\n",
       "    <tr>\n",
       "      <th>11715</th>\n",
       "      <td>0.615942</td>\n",
       "      <td>0.838147</td>\n",
       "      <td>0.410794</td>\n",
       "      <td>0.000000</td>\n",
       "      <td>0.031746</td>\n",
       "      <td>0.032</td>\n",
       "      <td>0.308943</td>\n",
       "      <td>0.071233</td>\n",
       "      <td>0.400000</td>\n",
       "    </tr>\n",
       "    <tr>\n",
       "      <th>11716</th>\n",
       "      <td>0.289855</td>\n",
       "      <td>0.210324</td>\n",
       "      <td>0.079708</td>\n",
       "      <td>0.000000</td>\n",
       "      <td>0.031746</td>\n",
       "      <td>0.000</td>\n",
       "      <td>0.105691</td>\n",
       "      <td>0.427397</td>\n",
       "      <td>0.133333</td>\n",
       "    </tr>\n",
       "    <tr>\n",
       "      <th>11717</th>\n",
       "      <td>0.891304</td>\n",
       "      <td>0.421347</td>\n",
       "      <td>0.045124</td>\n",
       "      <td>0.666667</td>\n",
       "      <td>0.000000</td>\n",
       "      <td>0.160</td>\n",
       "      <td>1.000000</td>\n",
       "      <td>0.046575</td>\n",
       "      <td>1.000000</td>\n",
       "    </tr>\n",
       "    <tr>\n",
       "      <th>11718</th>\n",
       "      <td>0.891304</td>\n",
       "      <td>0.421464</td>\n",
       "      <td>0.042455</td>\n",
       "      <td>0.666667</td>\n",
       "      <td>0.000000</td>\n",
       "      <td>0.176</td>\n",
       "      <td>1.000000</td>\n",
       "      <td>0.054795</td>\n",
       "      <td>1.000000</td>\n",
       "    </tr>\n",
       "    <tr>\n",
       "      <th>11719</th>\n",
       "      <td>0.804348</td>\n",
       "      <td>0.923155</td>\n",
       "      <td>0.613171</td>\n",
       "      <td>0.666667</td>\n",
       "      <td>0.000000</td>\n",
       "      <td>0.032</td>\n",
       "      <td>0.890244</td>\n",
       "      <td>1.000000</td>\n",
       "      <td>0.400000</td>\n",
       "    </tr>\n",
       "  </tbody>\n",
       "</table>\n",
       "<p>11720 rows × 9 columns</p>\n",
       "</div>"
      ],
      "text/plain": [
       "       neighbourhood  latitude  longitude  room_type  minimum_nights  \\\n",
       "0           0.021739  0.329537   0.459464   0.000000        0.015873   \n",
       "1           0.021739  0.330120   0.458958   0.000000        0.460317   \n",
       "2           0.746377  0.210129   0.372216   0.000000        0.031746   \n",
       "3           0.913043  0.316866   0.336892   0.000000        0.031746   \n",
       "4           0.188406  0.514207   0.738081   0.000000        0.015873   \n",
       "...              ...       ...        ...        ...             ...   \n",
       "11715       0.615942  0.838147   0.410794   0.000000        0.031746   \n",
       "11716       0.289855  0.210324   0.079708   0.000000        0.031746   \n",
       "11717       0.891304  0.421347   0.045124   0.666667        0.000000   \n",
       "11718       0.891304  0.421464   0.042455   0.666667        0.000000   \n",
       "11719       0.804348  0.923155   0.613171   0.666667        0.000000   \n",
       "\n",
       "       number_of_reviews  reviews_per_month  availability_365  \\\n",
       "0                  0.528           0.752033          0.843836   \n",
       "1                  0.032           0.065041          0.095890   \n",
       "2                  0.576           1.000000          0.320548   \n",
       "3                  0.048           0.434959          0.216438   \n",
       "4                  0.288           0.378049          0.000000   \n",
       "...                  ...                ...               ...   \n",
       "11715              0.032           0.308943          0.071233   \n",
       "11716              0.000           0.105691          0.427397   \n",
       "11717              0.160           1.000000          0.046575   \n",
       "11718              0.176           1.000000          0.054795   \n",
       "11719              0.032           0.890244          1.000000   \n",
       "\n",
       "       number_of_reviews_ltm  \n",
       "0                   1.000000  \n",
       "1                   0.266667  \n",
       "2                   1.000000  \n",
       "3                   0.533333  \n",
       "4                   0.800000  \n",
       "...                      ...  \n",
       "11715               0.400000  \n",
       "11716               0.133333  \n",
       "11717               1.000000  \n",
       "11718               1.000000  \n",
       "11719               0.400000  \n",
       "\n",
       "[11720 rows x 9 columns]"
      ]
     },
     "execution_count": 81,
     "metadata": {},
     "output_type": "execute_result"
    }
   ],
   "source": [
    "scaler=MinMaxScaler()\n",
    "scaler_df1=pd.DataFrame(scaler.fit_transform(X_new1),columns=X_new1.columns)\n",
    "scaler_df1"
   ]
  },
  {
   "cell_type": "code",
   "execution_count": 82,
   "id": "1a818c2a",
   "metadata": {},
   "outputs": [],
   "source": [
    "from sklearn.model_selection import train_test_split\n",
    "from sklearn import linear_model\n",
    "from sklearn.neighbors import KNeighborsRegressor\n",
    "from sklearn.tree import DecisionTreeRegressor\n",
    "from sklearn.ensemble import RandomForestRegressor\n",
    "from sklearn.metrics import mean_squared_error"
   ]
  },
  {
   "cell_type": "code",
   "execution_count": 83,
   "id": "79cafaf5",
   "metadata": {},
   "outputs": [],
   "source": [
    "train_input,test_input,train_output,test_output = train_test_split(scaler_df1, y_new1,test_size=0.20, random_state=3)"
   ]
  },
  {
   "cell_type": "code",
   "execution_count": 84,
   "id": "443df9a5",
   "metadata": {},
   "outputs": [
    {
     "data": {
      "text/plain": [
       "65.53654304280188"
      ]
     },
     "execution_count": 84,
     "metadata": {},
     "output_type": "execute_result"
    }
   ],
   "source": [
    "reg = linear_model.LinearRegression()\n",
    "reg.fit(train_input,train_output)\n",
    "output_ln=reg.predict(test_input)\n",
    "outputln_train=reg.predict(train_input)\n",
    "rmse_ln = mean_squared_error(test_output,output_ln,squared=False)   ##squared=False will calculate the RMSE, true calculate MSE\n",
    "rmse_ln"
   ]
  },
  {
   "cell_type": "code",
   "execution_count": 85,
   "id": "29c19ae5",
   "metadata": {},
   "outputs": [
    {
     "data": {
      "image/png": "[encoded data removed]",
      "text/plain": [
       "<Figure size 432x720 with 1 Axes>"
      ]
     },
     "metadata": {
      "needs_background": "light"
     },
     "output_type": "display_data"
    }
   ],
   "source": [
    "plt.figure(figsize=(6, 10))\n",
    "ax1 = sns.distplot(test_output, hist=False, color=\"r\", label=\"Actual Value\")\n",
    "sns.distplot(output_ln, hist=False, color=\"b\", label=\"Predicted Values\" , ax=ax1)\n",
    "plt.title('DIST PLOT for test data linear regression ')\n",
    "plt.legend()\n",
    "plt.show()\n",
    "\n"
   ]
  },
  {
   "cell_type": "code",
   "execution_count": 86,
   "id": "de9e0f6b",
   "metadata": {},
   "outputs": [
    {
     "data": {
      "text/plain": [
       "69.24945965215932"
      ]
     },
     "execution_count": 86,
     "metadata": {},
     "output_type": "execute_result"
    }
   ],
   "source": [
    "knn = KNeighborsRegressor()\n",
    "knn.fit(train_input,train_output)\n",
    "outputknn=knn.predict(test_input)\n",
    "rmse_knn = mean_squared_error(test_output,outputknn,squared=False)\n",
    "rmse_knn\n"
   ]
  },
  {
   "cell_type": "code",
   "execution_count": 87,
   "id": "5bb376ef",
   "metadata": {},
   "outputs": [
    {
     "data": {
      "image/png": "[encoded data removed]",
      "text/plain": [
       "<Figure size 432x720 with 1 Axes>"
      ]
     },
     "metadata": {
      "needs_background": "light"
     },
     "output_type": "display_data"
    }
   ],
   "source": [
    "plt.figure(figsize=(6, 10))\n",
    "ax1 = sns.distplot(test_output, hist=False, color=\"r\", label=\"Actual Value\")\n",
    "sns.distplot(outputknn, hist=False, color=\"b\", label=\"Predicted Values\" , ax=ax1)\n",
    "plt.title('DIST PLOT for test data KNN regressor')\n",
    "plt.legend()\n",
    "plt.show()\n"
   ]
  },
  {
   "cell_type": "code",
   "execution_count": 88,
   "id": "c73de612",
   "metadata": {},
   "outputs": [
    {
     "data": {
      "text/plain": [
       "83.58628106485274"
      ]
     },
     "execution_count": 88,
     "metadata": {},
     "output_type": "execute_result"
    }
   ],
   "source": [
    "DT = DecisionTreeRegressor()\n",
    "DT.fit(train_input,train_output)\n",
    "outputDT=DT.predict(test_input)\n",
    "outputDT_train=DT.predict(train_input)\n",
    "\n",
    "\n",
    "rmse_DT = mean_squared_error(test_output,outputDT,squared=False)\n",
    "rmse_DT"
   ]
  },
  {
   "cell_type": "code",
   "execution_count": 89,
   "id": "3f567c0f",
   "metadata": {},
   "outputs": [
    {
     "data": {
      "image/png": "[encoded data removed]",
      "text/plain": [
       "<Figure size 432x720 with 1 Axes>"
      ]
     },
     "metadata": {
      "needs_background": "light"
     },
     "output_type": "display_data"
    }
   ],
   "source": [
    "plt.figure(figsize=(6, 10))\n",
    "ax1 = sns.distplot(test_output, hist=False, color=\"r\", label=\"Actual Value\")\n",
    "sns.distplot(outputDT, hist=False, color=\"b\", label=\"Predicted Values\" , ax=ax1)\n",
    "plt.title('DIST PLOT for test data Decision Tree ')\n",
    "plt.legend()\n",
    "plt.show()\n"
   ]
  },
  {
   "cell_type": "code",
   "execution_count": 90,
   "id": "84539527",
   "metadata": {},
   "outputs": [
    {
     "data": {
      "text/plain": [
       "array([ 30., 182., 125., ..., 127.,  60.,  69.])"
      ]
     },
     "execution_count": 90,
     "metadata": {},
     "output_type": "execute_result"
    }
   ],
   "source": [
    "outputDT"
   ]
  },
  {
   "cell_type": "code",
   "execution_count": 91,
   "id": "4c5a20b4",
   "metadata": {},
   "outputs": [
    {
     "data": {
      "text/plain": [
       "61.692133022245805"
      ]
     },
     "execution_count": 91,
     "metadata": {},
     "output_type": "execute_result"
    }
   ],
   "source": [
    "RF = RandomForestRegressor()\n",
    "RF.fit(train_input,train_output)\n",
    "outputRF=RF.predict(test_input)\n",
    "outputRF_train=RF.predict(train_input)\n",
    "\n",
    "rmse_RF = mean_squared_error(test_output,outputRF,squared=False)\n",
    "rmse_RF"
   ]
  },
  {
   "cell_type": "code",
   "execution_count": 92,
   "id": "87e1aae9",
   "metadata": {},
   "outputs": [
    {
     "data": {
      "image/png": "[encoded data removed]",
      "text/plain": [
       "<Figure size 432x720 with 1 Axes>"
      ]
     },
     "metadata": {
      "needs_background": "light"
     },
     "output_type": "display_data"
    }
   ],
   "source": [
    "plt.figure(figsize=(6, 10))\n",
    "ax1 = sns.distplot(test_output, hist=False, color=\"r\", label=\"Actual Value\")\n",
    "sns.distplot(outputRF, hist=False, color=\"b\", label=\"Predicted Values\" , ax=ax1)\n",
    "plt.title('DIST PLOT for test data Random Forest ')\n",
    "plt.legend()\n",
    "plt.show()\n"
   ]
  },
  {
   "cell_type": "code",
   "execution_count": null,
   "id": "246bc8ff",
   "metadata": {},
   "outputs": [],
   "source": []
  }
 ],
 "metadata": {
  "kernelspec": {
   "display_name": "Python 3",
   "language": "python",
   "name": "python3"
  },
  "language_info": {
   "codemirror_mode": {
    "name": "ipython",
    "version": 3
   },
   "file_extension": ".py",
   "mimetype": "text/x-python",
   "name": "python",
   "nbconvert_exporter": "python",
   "pygments_lexer": "ipython3",
   "version": "3.8.8"
  }
 },
 "nbformat": 4,
 "nbformat_minor": 5
}
