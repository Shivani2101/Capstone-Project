{
 "cells": [
  {
   "cell_type": "code",
   "execution_count": 1,
   "id": "b08351f4",
   "metadata": {},
   "outputs": [],
   "source": [
    "import pandas as pd\n",
    "pd.set_option(\"display.max_columns\",None)  ## To fetch all the attributes\n",
    "import seaborn as sns\n",
    "import matplotlib.pyplot as plt\n",
    "import numpy as np\n",
    "import warnings \n",
    "warnings.filterwarnings('ignore')\n",
    "import plotly.express as px  ##For dynamic visualisation\n",
    "\n",
    "#Natural Language processing \n",
    "from nltk.tokenize import word_tokenize\n",
    "from nltk.corpus import stopwords\n",
    "import re\n",
    "from sklearn.feature_extraction.text import TfidfVectorizer, CountVectorizer\n",
    "from wordcloud import WordCloud"
   ]
  },
  {
   "cell_type": "code",
   "execution_count": 2,
   "id": "85a32a42",
   "metadata": {},
   "outputs": [],
   "source": [
    "df = pd.read_csv(\"reviews-airbnb-can.csv\")"
   ]
  },
  {
   "cell_type": "code",
   "execution_count": 3,
   "id": "cbc71ef2",
   "metadata": {},
   "outputs": [],
   "source": [
    "## REMOVING ( - ) FROM THE COMMENTS , THESE ARE BLANK COMMENTS AND ISNULL IS TAKING ONLY N/A OR n/a\n",
    "df=df[~(df['comments']=='-')]"
   ]
  },
  {
   "cell_type": "code",
   "execution_count": 4,
   "id": "bd0672f0",
   "metadata": {},
   "outputs": [],
   "source": [
    "## REMOVING ( . ) FROM THE COMMENTS , THESE ARE BLANK COMMENTS AND ISNULL IS TAKING ONLY N/A OR n/a\n",
    "\n",
    "df=df[~(df['comments']=='.')]"
   ]
  },
  {
   "cell_type": "code",
   "execution_count": 5,
   "id": "06730bc3",
   "metadata": {},
   "outputs": [],
   "source": [
    "## REMOVING ( 'N/a' ) FROM THE COMMENTS , THEESE ARE BLANK COMMENTS AND ISNULL IS TAKING ONLY N/A OR n/a\n",
    "\n",
    "df=df[~(df['comments']=='N/a')]\n",
    "df.dropna(inplace=True)"
   ]
  },
  {
   "cell_type": "code",
   "execution_count": 6,
   "id": "f2344773",
   "metadata": {},
   "outputs": [
    {
     "data": {
      "text/plain": [
       "listing_id       0\n",
       "id               0\n",
       "date             0\n",
       "reviewer_id      0\n",
       "reviewer_name    0\n",
       "comments         0\n",
       "dtype: int64"
      ]
     },
     "execution_count": 6,
     "metadata": {},
     "output_type": "execute_result"
    }
   ],
   "source": [
    "# CHECKING NULL VALUES\n",
    "df.isnull().sum()"
   ]
  },
  {
   "cell_type": "code",
   "execution_count": 7,
   "id": "c9bd5e8a",
   "metadata": {},
   "outputs": [],
   "source": [
    "# REMOVING NULL VALUES\n",
    "\n",
    "df.dropna(inplace=True)\n"
   ]
  },
  {
   "cell_type": "code",
   "execution_count": 8,
   "id": "ec4b4e40",
   "metadata": {},
   "outputs": [
    {
     "data": {
      "text/plain": [
       "(400313, 6)"
      ]
     },
     "execution_count": 8,
     "metadata": {},
     "output_type": "execute_result"
    }
   ],
   "source": [
    "df.shape"
   ]
  },
  {
   "cell_type": "code",
   "execution_count": 9,
   "id": "2833b337",
   "metadata": {},
   "outputs": [
    {
     "data": {
      "text/plain": [
       "0    Having the opportunity of arriving to Alexandr...\n",
       "1    We have no enough words to describe how beauty...\n",
       "2    The listing was exceptional and an even better...\n",
       "3    Alexandra's home was amazing and in such a nea...\n",
       "4    Beautiful home. Very comfortable and clean. Pe...\n",
       "Name: comments, dtype: object"
      ]
     },
     "execution_count": 9,
     "metadata": {},
     "output_type": "execute_result"
    }
   ],
   "source": [
    "df.comments.head()"
   ]
  },
  {
   "cell_type": "code",
   "execution_count": 10,
   "id": "085c7e6d",
   "metadata": {},
   "outputs": [
    {
     "name": "stdout",
     "output_type": "stream",
     "text": [
      "Before CONTRACTION\n"
     ]
    },
    {
     "data": {
      "text/plain": [
       "\"We really enjoyed staying at Kathie and Larry's place. Can't beat that skyline view for this price. The room was nice and clean. Having a second bathroom was also nice.\\r<br/>\\r<br/>Plenty of privacy as advertised if that's your thing.\\r<br/>\\r<br/>Thank you Kathie & Larry :)\""
      ]
     },
     "execution_count": 10,
     "metadata": {},
     "output_type": "execute_result"
    }
   ],
   "source": [
    "print(\"Before CONTRACTION\")\n",
    "df.comments.values[9]  ##To check the full content of the comment"
   ]
  },
  {
   "cell_type": "code",
   "execution_count": 12,
   "id": "e3a9cb31",
   "metadata": {},
   "outputs": [],
   "source": [
    "#!pip install contractions"
   ]
  },
  {
   "cell_type": "code",
   "execution_count": 11,
   "id": "91468fe6",
   "metadata": {},
   "outputs": [],
   "source": [
    "import contractions"
   ]
  },
  {
   "cell_type": "code",
   "execution_count": 12,
   "id": "a9287f4f",
   "metadata": {},
   "outputs": [],
   "source": [
    "# CONTRACTION CODE\n",
    "#for i in range(0,len(df)):\n",
    "    #text = str(df.comments.loc[i])\n",
    "    #expanded_words = []   \n",
    "    #for word in text.split():\n",
    "\n",
    "        #expanded_words.append(contractions.fix(word))  \n",
    "     \n",
    "    #expanded_text = ' '.join(expanded_words)\n",
    "    #print(expanded_text)\n",
    "    #df.comments.loc[i]=expanded_text"
   ]
  },
  {
   "cell_type": "code",
   "execution_count": 13,
   "id": "d53fbb8e",
   "metadata": {},
   "outputs": [
    {
     "name": "stdout",
     "output_type": "stream",
     "text": [
      "After CONTRACTION\n"
     ]
    },
    {
     "data": {
      "text/plain": [
       "\"We really enjoyed staying at Kathie and Larry's place. Can't beat that skyline view for this price. The room was nice and clean. Having a second bathroom was also nice.\\r<br/>\\r<br/>Plenty of privacy as advertised if that's your thing.\\r<br/>\\r<br/>Thank you Kathie & Larry :)\""
      ]
     },
     "execution_count": 13,
     "metadata": {},
     "output_type": "execute_result"
    }
   ],
   "source": [
    "print(\"After CONTRACTION\")\n",
    "\n",
    "df.comments[9]"
   ]
  },
  {
   "cell_type": "code",
   "execution_count": 14,
   "id": "e6b9acc0",
   "metadata": {},
   "outputs": [],
   "source": [
    "## EXPORTING THE CONTRACTIONS TO CHANGED FILE FOR FURTHER USEE\n",
    "#df.to_csv(\"finalaftercontraction.csv\")\n"
   ]
  },
  {
   "cell_type": "code",
   "execution_count": 15,
   "id": "525c2914",
   "metadata": {},
   "outputs": [],
   "source": [
    "## importing the contracted file for cleaning\n",
    "df1=pd.read_csv(\"finalaftercontraction.csv\")"
   ]
  },
  {
   "cell_type": "code",
   "execution_count": 16,
   "id": "89f07977",
   "metadata": {},
   "outputs": [
    {
     "data": {
      "text/plain": [
       "(400313, 7)"
      ]
     },
     "execution_count": 16,
     "metadata": {},
     "output_type": "execute_result"
    }
   ],
   "source": [
    "df1.shape"
   ]
  },
  {
   "cell_type": "code",
   "execution_count": 18,
   "id": "e1723944",
   "metadata": {},
   "outputs": [
    {
     "data": {
      "text/html": [
       "<div>\n",
       "<style scoped>\n",
       "    .dataframe tbody tr th:only-of-type {\n",
       "        vertical-align: middle;\n",
       "    }\n",
       "\n",
       "    .dataframe tbody tr th {\n",
       "        vertical-align: top;\n",
       "    }\n",
       "\n",
       "    .dataframe thead th {\n",
       "        text-align: right;\n",
       "    }\n",
       "</style>\n",
       "<table border=\"1\" class=\"dataframe\">\n",
       "  <thead>\n",
       "    <tr style=\"text-align: right;\">\n",
       "      <th></th>\n",
       "      <th>Unnamed: 0</th>\n",
       "      <th>listing_id</th>\n",
       "      <th>id</th>\n",
       "      <th>date</th>\n",
       "      <th>reviewer_id</th>\n",
       "      <th>reviewer_name</th>\n",
       "      <th>comments</th>\n",
       "    </tr>\n",
       "  </thead>\n",
       "  <tbody>\n",
       "    <tr>\n",
       "      <th>0</th>\n",
       "      <td>0</td>\n",
       "      <td>1419</td>\n",
       "      <td>38924112</td>\n",
       "      <td>2015-07-19</td>\n",
       "      <td>11308465</td>\n",
       "      <td>Marcela</td>\n",
       "      <td>Having the opportunity of arriving to Alexandr...</td>\n",
       "    </tr>\n",
       "    <tr>\n",
       "      <th>1</th>\n",
       "      <td>1</td>\n",
       "      <td>1419</td>\n",
       "      <td>44791978</td>\n",
       "      <td>2015-08-29</td>\n",
       "      <td>9580285</td>\n",
       "      <td>Marco</td>\n",
       "      <td>We have no enough words to describe how beauty...</td>\n",
       "    </tr>\n",
       "    <tr>\n",
       "      <th>2</th>\n",
       "      <td>2</td>\n",
       "      <td>1419</td>\n",
       "      <td>45957133</td>\n",
       "      <td>2015-09-07</td>\n",
       "      <td>38394721</td>\n",
       "      <td>Andrea</td>\n",
       "      <td>The listing was exceptional and an even better...</td>\n",
       "    </tr>\n",
       "    <tr>\n",
       "      <th>3</th>\n",
       "      <td>3</td>\n",
       "      <td>1419</td>\n",
       "      <td>67295154</td>\n",
       "      <td>2016-03-28</td>\n",
       "      <td>3515044</td>\n",
       "      <td>Shaun</td>\n",
       "      <td>Alexandra's home was amazing and in such a nea...</td>\n",
       "    </tr>\n",
       "    <tr>\n",
       "      <th>4</th>\n",
       "      <td>4</td>\n",
       "      <td>1419</td>\n",
       "      <td>177702208</td>\n",
       "      <td>2017-08-03</td>\n",
       "      <td>13987100</td>\n",
       "      <td>Kate</td>\n",
       "      <td>Beautiful home. Very comfortable and clean. Pe...</td>\n",
       "    </tr>\n",
       "    <tr>\n",
       "      <th>...</th>\n",
       "      <td>...</td>\n",
       "      <td>...</td>\n",
       "      <td>...</td>\n",
       "      <td>...</td>\n",
       "      <td>...</td>\n",
       "      <td>...</td>\n",
       "      <td>...</td>\n",
       "    </tr>\n",
       "    <tr>\n",
       "      <th>400308</th>\n",
       "      <td>400881</td>\n",
       "      <td>571781370061575504</td>\n",
       "      <td>576805871456393571</td>\n",
       "      <td>2022-03-06</td>\n",
       "      <td>445228769</td>\n",
       "      <td>Olivia</td>\n",
       "      <td>Very beautiful property. Clean and very spacious.</td>\n",
       "    </tr>\n",
       "    <tr>\n",
       "      <th>400309</th>\n",
       "      <td>400882</td>\n",
       "      <td>571843051378047046</td>\n",
       "      <td>575369353865482208</td>\n",
       "      <td>2022-03-04</td>\n",
       "      <td>189379488</td>\n",
       "      <td>Hassan</td>\n",
       "      <td>Amazing host and great place</td>\n",
       "    </tr>\n",
       "    <tr>\n",
       "      <th>400310</th>\n",
       "      <td>400883</td>\n",
       "      <td>572314967237702332</td>\n",
       "      <td>574583975401671156</td>\n",
       "      <td>2022-03-03</td>\n",
       "      <td>435568865</td>\n",
       "      <td>Michael</td>\n",
       "      <td>great value , easy in and out, very clean .</td>\n",
       "    </tr>\n",
       "    <tr>\n",
       "      <th>400311</th>\n",
       "      <td>400884</td>\n",
       "      <td>572391455274417878</td>\n",
       "      <td>576776957966397983</td>\n",
       "      <td>2022-03-06</td>\n",
       "      <td>430443426</td>\n",
       "      <td>Mehdi</td>\n",
       "      <td>I stayed there for just one night because of a...</td>\n",
       "    </tr>\n",
       "    <tr>\n",
       "      <th>400312</th>\n",
       "      <td>400885</td>\n",
       "      <td>574489717491141448</td>\n",
       "      <td>576795534411547762</td>\n",
       "      <td>2022-03-06</td>\n",
       "      <td>372285502</td>\n",
       "      <td>Trevor</td>\n",
       "      <td>Great stay and a nice guy!</td>\n",
       "    </tr>\n",
       "  </tbody>\n",
       "</table>\n",
       "<p>400313 rows × 7 columns</p>\n",
       "</div>"
      ],
      "text/plain": [
       "        Unnamed: 0          listing_id                  id        date  \\\n",
       "0                0                1419            38924112  2015-07-19   \n",
       "1                1                1419            44791978  2015-08-29   \n",
       "2                2                1419            45957133  2015-09-07   \n",
       "3                3                1419            67295154  2016-03-28   \n",
       "4                4                1419           177702208  2017-08-03   \n",
       "...            ...                 ...                 ...         ...   \n",
       "400308      400881  571781370061575504  576805871456393571  2022-03-06   \n",
       "400309      400882  571843051378047046  575369353865482208  2022-03-04   \n",
       "400310      400883  572314967237702332  574583975401671156  2022-03-03   \n",
       "400311      400884  572391455274417878  576776957966397983  2022-03-06   \n",
       "400312      400885  574489717491141448  576795534411547762  2022-03-06   \n",
       "\n",
       "        reviewer_id reviewer_name  \\\n",
       "0          11308465       Marcela   \n",
       "1           9580285         Marco   \n",
       "2          38394721        Andrea   \n",
       "3           3515044         Shaun   \n",
       "4          13987100          Kate   \n",
       "...             ...           ...   \n",
       "400308    445228769        Olivia   \n",
       "400309    189379488        Hassan   \n",
       "400310    435568865       Michael   \n",
       "400311    430443426         Mehdi   \n",
       "400312    372285502        Trevor   \n",
       "\n",
       "                                                 comments  \n",
       "0       Having the opportunity of arriving to Alexandr...  \n",
       "1       We have no enough words to describe how beauty...  \n",
       "2       The listing was exceptional and an even better...  \n",
       "3       Alexandra's home was amazing and in such a nea...  \n",
       "4       Beautiful home. Very comfortable and clean. Pe...  \n",
       "...                                                   ...  \n",
       "400308  Very beautiful property. Clean and very spacious.  \n",
       "400309                       Amazing host and great place  \n",
       "400310        great value , easy in and out, very clean .  \n",
       "400311  I stayed there for just one night because of a...  \n",
       "400312                         Great stay and a nice guy!  \n",
       "\n",
       "[400313 rows x 7 columns]"
      ]
     },
     "execution_count": 18,
     "metadata": {},
     "output_type": "execute_result"
    }
   ],
   "source": [
    "df1"
   ]
  },
  {
   "cell_type": "code",
   "execution_count": null,
   "id": "27c5820c",
   "metadata": {},
   "outputs": [],
   "source": []
  }
 ],
 "metadata": {
  "kernelspec": {
   "display_name": "Python 3",
   "language": "python",
   "name": "python3"
  },
  "language_info": {
   "codemirror_mode": {
    "name": "ipython",
    "version": 3
   },
   "file_extension": ".py",
   "mimetype": "text/x-python",
   "name": "python",
   "nbconvert_exporter": "python",
   "pygments_lexer": "ipython3",
   "version": "3.8.8"
  }
 },
 "nbformat": 4,
 "nbformat_minor": 5
}
